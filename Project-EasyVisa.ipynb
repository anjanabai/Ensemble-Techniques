{
 "cells": [
  {
   "cell_type": "markdown",
   "id": "AT5OogJVFbwu",
   "metadata": {
    "id": "AT5OogJVFbwu"
   },
   "source": [
    "# EasyVisa Project\n",
    "\n",
    "## Context:\n",
    "\n",
    "Business communities in the United States are facing high demand for human resources, but one of the constant challenges is identifying and attracting the right talent, which is perhaps the most important element in remaining competitive. Companies in the United States look for hard-working, talented, and qualified individuals both locally as well as abroad.\n",
    "\n",
    "The Immigration and Nationality Act (INA) of the US permits foreign workers to come to the United States to work on either a temporary or permanent basis. The act also protects US workers against adverse impacts on their wages or working conditions by ensuring US employers' compliance with statutory requirements when they hire foreign workers to fill workforce shortages. The immigration programs are administered by the Office of Foreign Labor Certification (OFLC).\n",
    "\n",
    "OFLC processes job certification applications for employers seeking to bring foreign workers into the United States and grants certifications in those cases where employers can demonstrate that there are not sufficient US workers available to perform the work at wages that meet or exceed the wage paid for the occupation in the area of intended employment.\n",
    "\n",
    "## Objective:\n",
    "\n",
    "In FY 2016, the OFLC processed 775,979 employer applications for 1,699,957 positions for temporary and permanent labor certifications. This was a nine percent increase in the overall number of processed applications from the previous year. The process of reviewing every case is becoming a tedious task as the number of applicants is increasing every year.\n",
    "\n",
    "The increasing number of applicants every year calls for a Machine Learning based solution that can help in shortlisting the candidates having higher chances of VISA approval. OFLC has hired your firm EasyVisa for data-driven solutions. You as a data scientist have to analyze the data provided and, with the help of a classification model:\n",
    "\n",
    "* Facilitate the process of visa approvals.\n",
    "* Recommend a suitable profile for the applicants for whom the visa should be certified or denied based on the drivers that significantly influence the case status. \n",
    "\n",
    "\n",
    "## Data Description\n",
    "\n",
    "The data contains the different attributes of the employee and the employer. The detailed data dictionary is given below.\n",
    "\n",
    "* case_id: ID of each visa application\n",
    "* continent: Information of continent the employee\n",
    "* education_of_employee: Information of education of the employee\n",
    "* has_job_experience: Does the employee has any job experience? Y= Yes; N = No\n",
    "* requires_job_training: Does the employee require any job training? Y = Yes; N = No \n",
    "* no_of_employees: Number of employees in the employer's company\n",
    "* yr_of_estab: Year in which the employer's company was established\n",
    "* region_of_employment: Information of foreign worker's intended region of employment in the US.\n",
    "* prevailing_wage:  Average wage paid to similarly employed workers in a specific occupation in the area of intended employment. The purpose of the prevailing wage is to ensure that the foreign worker is not underpaid compared to other workers offering the same or similar service in the same area of employment. \n",
    "* unit_of_wage: Unit of prevailing wage. Values include Hourly, Weekly, Monthly, and Yearly.\n",
    "* full_time_position: Is the position of work full-time? Y = Full Time Position; N = Part Time Position\n",
    "* case_status:  Flag indicating if the Visa was certified or denied"
   ]
  },
  {
   "cell_type": "markdown",
   "id": "830867ae",
   "metadata": {},
   "source": [
    "# Overview of data"
   ]
  },
  {
   "cell_type": "markdown",
   "id": "dirty-island",
   "metadata": {
    "id": "dirty-island"
   },
   "source": [
    "## Importing necessary libraries and data"
   ]
  },
  {
   "cell_type": "code",
   "execution_count": 1,
   "id": "statewide-still",
   "metadata": {
    "id": "statewide-still"
   },
   "outputs": [],
   "source": [
    "import warnings\n",
    "\n",
    "warnings.filterwarnings(\"ignore\")\n",
    "\n",
    "# Libraries to help with reading and manipulating data\n",
    "import numpy as np\n",
    "import pandas as pd\n",
    "\n",
    "# Library to split data\n",
    "from sklearn.model_selection import train_test_split\n",
    "\n",
    "# libaries to help with data visualization\n",
    "import matplotlib.pyplot as plt\n",
    "import seaborn as sns\n",
    "\n",
    "# Removes the limit for the number of displayed columns\n",
    "pd.set_option(\"display.max_columns\", None)\n",
    "# Sets the limit for the number of displayed rows\n",
    "pd.set_option(\"display.max_rows\", 100)\n",
    "\n",
    "\n",
    "# Libraries different ensemble classifiers\n",
    "from sklearn.ensemble import (\n",
    "    BaggingClassifier,\n",
    "    RandomForestClassifier,\n",
    "    AdaBoostClassifier,\n",
    "    GradientBoostingClassifier,\n",
    "    StackingClassifier,\n",
    ")\n",
    "\n",
    "from xgboost import XGBClassifier\n",
    "from sklearn.tree import DecisionTreeClassifier\n",
    "\n",
    "# Libraries to get different metric scores\n",
    "from sklearn import metrics\n",
    "from sklearn.metrics import (\n",
    "    confusion_matrix,\n",
    "    accuracy_score,\n",
    "    precision_score,\n",
    "    recall_score,\n",
    "    f1_score,\n",
    ")\n",
    "\n",
    "# To tune different models\n",
    "from sklearn.model_selection import GridSearchCV"
   ]
  },
  {
   "cell_type": "markdown",
   "id": "desperate-infection",
   "metadata": {
    "id": "desperate-infection"
   },
   "source": [
    "## Data Overview\n"
   ]
  },
  {
   "cell_type": "code",
   "execution_count": 2,
   "id": "a95576de",
   "metadata": {},
   "outputs": [],
   "source": [
    "#Loading dataset\n",
    "data=pd.read_csv(\"EasyVisa.csv\")\n"
   ]
  },
  {
   "cell_type": "code",
   "execution_count": 3,
   "id": "05f509d1",
   "metadata": {},
   "outputs": [],
   "source": [
    "# copying data to another variable to avoid any changes to original data**\n",
    "data = data.copy()"
   ]
  },
  {
   "cell_type": "markdown",
   "id": "c1be6877",
   "metadata": {},
   "source": [
    "### View the first and last 5 rows of the dataset"
   ]
  },
  {
   "cell_type": "code",
   "execution_count": 4,
   "id": "d2da8296",
   "metadata": {},
   "outputs": [
    {
     "data": {
      "text/html": [
       "<div>\n",
       "<style scoped>\n",
       "    .dataframe tbody tr th:only-of-type {\n",
       "        vertical-align: middle;\n",
       "    }\n",
       "\n",
       "    .dataframe tbody tr th {\n",
       "        vertical-align: top;\n",
       "    }\n",
       "\n",
       "    .dataframe thead th {\n",
       "        text-align: right;\n",
       "    }\n",
       "</style>\n",
       "<table border=\"1\" class=\"dataframe\">\n",
       "  <thead>\n",
       "    <tr style=\"text-align: right;\">\n",
       "      <th></th>\n",
       "      <th>case_id</th>\n",
       "      <th>continent</th>\n",
       "      <th>education_of_employee</th>\n",
       "      <th>has_job_experience</th>\n",
       "      <th>requires_job_training</th>\n",
       "      <th>no_of_employees</th>\n",
       "      <th>yr_of_estab</th>\n",
       "      <th>region_of_employment</th>\n",
       "      <th>prevailing_wage</th>\n",
       "      <th>unit_of_wage</th>\n",
       "      <th>full_time_position</th>\n",
       "      <th>case_status</th>\n",
       "    </tr>\n",
       "  </thead>\n",
       "  <tbody>\n",
       "    <tr>\n",
       "      <th>0</th>\n",
       "      <td>EZYV01</td>\n",
       "      <td>Asia</td>\n",
       "      <td>High School</td>\n",
       "      <td>N</td>\n",
       "      <td>N</td>\n",
       "      <td>14513</td>\n",
       "      <td>2007</td>\n",
       "      <td>West</td>\n",
       "      <td>592.2029</td>\n",
       "      <td>Hour</td>\n",
       "      <td>Y</td>\n",
       "      <td>Denied</td>\n",
       "    </tr>\n",
       "    <tr>\n",
       "      <th>1</th>\n",
       "      <td>EZYV02</td>\n",
       "      <td>Asia</td>\n",
       "      <td>Master's</td>\n",
       "      <td>Y</td>\n",
       "      <td>N</td>\n",
       "      <td>2412</td>\n",
       "      <td>2002</td>\n",
       "      <td>Northeast</td>\n",
       "      <td>83425.6500</td>\n",
       "      <td>Year</td>\n",
       "      <td>Y</td>\n",
       "      <td>Certified</td>\n",
       "    </tr>\n",
       "    <tr>\n",
       "      <th>2</th>\n",
       "      <td>EZYV03</td>\n",
       "      <td>Asia</td>\n",
       "      <td>Bachelor's</td>\n",
       "      <td>N</td>\n",
       "      <td>Y</td>\n",
       "      <td>44444</td>\n",
       "      <td>2008</td>\n",
       "      <td>West</td>\n",
       "      <td>122996.8600</td>\n",
       "      <td>Year</td>\n",
       "      <td>Y</td>\n",
       "      <td>Denied</td>\n",
       "    </tr>\n",
       "    <tr>\n",
       "      <th>3</th>\n",
       "      <td>EZYV04</td>\n",
       "      <td>Asia</td>\n",
       "      <td>Bachelor's</td>\n",
       "      <td>N</td>\n",
       "      <td>N</td>\n",
       "      <td>98</td>\n",
       "      <td>1897</td>\n",
       "      <td>West</td>\n",
       "      <td>83434.0300</td>\n",
       "      <td>Year</td>\n",
       "      <td>Y</td>\n",
       "      <td>Denied</td>\n",
       "    </tr>\n",
       "    <tr>\n",
       "      <th>4</th>\n",
       "      <td>EZYV05</td>\n",
       "      <td>Africa</td>\n",
       "      <td>Master's</td>\n",
       "      <td>Y</td>\n",
       "      <td>N</td>\n",
       "      <td>1082</td>\n",
       "      <td>2005</td>\n",
       "      <td>South</td>\n",
       "      <td>149907.3900</td>\n",
       "      <td>Year</td>\n",
       "      <td>Y</td>\n",
       "      <td>Certified</td>\n",
       "    </tr>\n",
       "  </tbody>\n",
       "</table>\n",
       "</div>"
      ],
      "text/plain": [
       "  case_id continent education_of_employee has_job_experience  \\\n",
       "0  EZYV01      Asia           High School                  N   \n",
       "1  EZYV02      Asia              Master's                  Y   \n",
       "2  EZYV03      Asia            Bachelor's                  N   \n",
       "3  EZYV04      Asia            Bachelor's                  N   \n",
       "4  EZYV05    Africa              Master's                  Y   \n",
       "\n",
       "  requires_job_training  no_of_employees  yr_of_estab region_of_employment  \\\n",
       "0                     N            14513         2007                 West   \n",
       "1                     N             2412         2002            Northeast   \n",
       "2                     Y            44444         2008                 West   \n",
       "3                     N               98         1897                 West   \n",
       "4                     N             1082         2005                South   \n",
       "\n",
       "   prevailing_wage unit_of_wage full_time_position case_status  \n",
       "0         592.2029         Hour                  Y      Denied  \n",
       "1       83425.6500         Year                  Y   Certified  \n",
       "2      122996.8600         Year                  Y      Denied  \n",
       "3       83434.0300         Year                  Y      Denied  \n",
       "4      149907.3900         Year                  Y   Certified  "
      ]
     },
     "execution_count": 4,
     "metadata": {},
     "output_type": "execute_result"
    }
   ],
   "source": [
    "# copying data to another variable to avoid any changes to original data**\n",
    "data.head()"
   ]
  },
  {
   "cell_type": "code",
   "execution_count": 5,
   "id": "00754246",
   "metadata": {},
   "outputs": [
    {
     "data": {
      "text/html": [
       "<div>\n",
       "<style scoped>\n",
       "    .dataframe tbody tr th:only-of-type {\n",
       "        vertical-align: middle;\n",
       "    }\n",
       "\n",
       "    .dataframe tbody tr th {\n",
       "        vertical-align: top;\n",
       "    }\n",
       "\n",
       "    .dataframe thead th {\n",
       "        text-align: right;\n",
       "    }\n",
       "</style>\n",
       "<table border=\"1\" class=\"dataframe\">\n",
       "  <thead>\n",
       "    <tr style=\"text-align: right;\">\n",
       "      <th></th>\n",
       "      <th>case_id</th>\n",
       "      <th>continent</th>\n",
       "      <th>education_of_employee</th>\n",
       "      <th>has_job_experience</th>\n",
       "      <th>requires_job_training</th>\n",
       "      <th>no_of_employees</th>\n",
       "      <th>yr_of_estab</th>\n",
       "      <th>region_of_employment</th>\n",
       "      <th>prevailing_wage</th>\n",
       "      <th>unit_of_wage</th>\n",
       "      <th>full_time_position</th>\n",
       "      <th>case_status</th>\n",
       "    </tr>\n",
       "  </thead>\n",
       "  <tbody>\n",
       "    <tr>\n",
       "      <th>25475</th>\n",
       "      <td>EZYV25476</td>\n",
       "      <td>Asia</td>\n",
       "      <td>Bachelor's</td>\n",
       "      <td>Y</td>\n",
       "      <td>Y</td>\n",
       "      <td>2601</td>\n",
       "      <td>2008</td>\n",
       "      <td>South</td>\n",
       "      <td>77092.57</td>\n",
       "      <td>Year</td>\n",
       "      <td>Y</td>\n",
       "      <td>Certified</td>\n",
       "    </tr>\n",
       "    <tr>\n",
       "      <th>25476</th>\n",
       "      <td>EZYV25477</td>\n",
       "      <td>Asia</td>\n",
       "      <td>High School</td>\n",
       "      <td>Y</td>\n",
       "      <td>N</td>\n",
       "      <td>3274</td>\n",
       "      <td>2006</td>\n",
       "      <td>Northeast</td>\n",
       "      <td>279174.79</td>\n",
       "      <td>Year</td>\n",
       "      <td>Y</td>\n",
       "      <td>Certified</td>\n",
       "    </tr>\n",
       "    <tr>\n",
       "      <th>25477</th>\n",
       "      <td>EZYV25478</td>\n",
       "      <td>Asia</td>\n",
       "      <td>Master's</td>\n",
       "      <td>Y</td>\n",
       "      <td>N</td>\n",
       "      <td>1121</td>\n",
       "      <td>1910</td>\n",
       "      <td>South</td>\n",
       "      <td>146298.85</td>\n",
       "      <td>Year</td>\n",
       "      <td>N</td>\n",
       "      <td>Certified</td>\n",
       "    </tr>\n",
       "    <tr>\n",
       "      <th>25478</th>\n",
       "      <td>EZYV25479</td>\n",
       "      <td>Asia</td>\n",
       "      <td>Master's</td>\n",
       "      <td>Y</td>\n",
       "      <td>Y</td>\n",
       "      <td>1918</td>\n",
       "      <td>1887</td>\n",
       "      <td>West</td>\n",
       "      <td>86154.77</td>\n",
       "      <td>Year</td>\n",
       "      <td>Y</td>\n",
       "      <td>Certified</td>\n",
       "    </tr>\n",
       "    <tr>\n",
       "      <th>25479</th>\n",
       "      <td>EZYV25480</td>\n",
       "      <td>Asia</td>\n",
       "      <td>Bachelor's</td>\n",
       "      <td>Y</td>\n",
       "      <td>N</td>\n",
       "      <td>3195</td>\n",
       "      <td>1960</td>\n",
       "      <td>Midwest</td>\n",
       "      <td>70876.91</td>\n",
       "      <td>Year</td>\n",
       "      <td>Y</td>\n",
       "      <td>Certified</td>\n",
       "    </tr>\n",
       "  </tbody>\n",
       "</table>\n",
       "</div>"
      ],
      "text/plain": [
       "         case_id continent education_of_employee has_job_experience  \\\n",
       "25475  EZYV25476      Asia            Bachelor's                  Y   \n",
       "25476  EZYV25477      Asia           High School                  Y   \n",
       "25477  EZYV25478      Asia              Master's                  Y   \n",
       "25478  EZYV25479      Asia              Master's                  Y   \n",
       "25479  EZYV25480      Asia            Bachelor's                  Y   \n",
       "\n",
       "      requires_job_training  no_of_employees  yr_of_estab  \\\n",
       "25475                     Y             2601         2008   \n",
       "25476                     N             3274         2006   \n",
       "25477                     N             1121         1910   \n",
       "25478                     Y             1918         1887   \n",
       "25479                     N             3195         1960   \n",
       "\n",
       "      region_of_employment  prevailing_wage unit_of_wage full_time_position  \\\n",
       "25475                South         77092.57         Year                  Y   \n",
       "25476            Northeast        279174.79         Year                  Y   \n",
       "25477                South        146298.85         Year                  N   \n",
       "25478                 West         86154.77         Year                  Y   \n",
       "25479              Midwest         70876.91         Year                  Y   \n",
       "\n",
       "      case_status  \n",
       "25475   Certified  \n",
       "25476   Certified  \n",
       "25477   Certified  \n",
       "25478   Certified  \n",
       "25479   Certified  "
      ]
     },
     "execution_count": 5,
     "metadata": {},
     "output_type": "execute_result"
    }
   ],
   "source": [
    "# copying data to another variable to avoid any changes to original data**\n",
    "data.tail()"
   ]
  },
  {
   "cell_type": "markdown",
   "id": "82310d18",
   "metadata": {},
   "source": [
    "### Understand the shape of the dataset"
   ]
  },
  {
   "cell_type": "code",
   "execution_count": 6,
   "id": "44b1921f",
   "metadata": {},
   "outputs": [
    {
     "data": {
      "text/plain": [
       "(25480, 12)"
      ]
     },
     "execution_count": 6,
     "metadata": {},
     "output_type": "execute_result"
    }
   ],
   "source": [
    "# copying data to another variable to avoid any changes to original data**\n",
    "data.shape"
   ]
  },
  {
   "cell_type": "markdown",
   "id": "6c0fde0c",
   "metadata": {},
   "source": [
    "### Check the data types of the columns for the dataset"
   ]
  },
  {
   "cell_type": "code",
   "execution_count": 7,
   "id": "d01f62c1",
   "metadata": {},
   "outputs": [
    {
     "name": "stdout",
     "output_type": "stream",
     "text": [
      "<class 'pandas.core.frame.DataFrame'>\n",
      "RangeIndex: 25480 entries, 0 to 25479\n",
      "Data columns (total 12 columns):\n",
      " #   Column                 Non-Null Count  Dtype  \n",
      "---  ------                 --------------  -----  \n",
      " 0   case_id                25480 non-null  object \n",
      " 1   continent              25480 non-null  object \n",
      " 2   education_of_employee  25480 non-null  object \n",
      " 3   has_job_experience     25480 non-null  object \n",
      " 4   requires_job_training  25480 non-null  object \n",
      " 5   no_of_employees        25480 non-null  int64  \n",
      " 6   yr_of_estab            25480 non-null  int64  \n",
      " 7   region_of_employment   25480 non-null  object \n",
      " 8   prevailing_wage        25480 non-null  float64\n",
      " 9   unit_of_wage           25480 non-null  object \n",
      " 10  full_time_position     25480 non-null  object \n",
      " 11  case_status            25480 non-null  object \n",
      "dtypes: float64(1), int64(2), object(9)\n",
      "memory usage: 2.3+ MB\n"
     ]
    }
   ],
   "source": [
    "#Check data type and not null values for each column\n",
    "data.info()"
   ]
  },
  {
   "cell_type": "markdown",
   "id": "5f716237",
   "metadata": {},
   "source": [
    "- We can see that there are total of 12 columns and 25480 rows in the dataset.\n",
    "- All columns' data type is integer(2) or float(1). column - 'case_id','continent','education_of_employee','has_job_experience','requires_job_training','region_of_employment','unit_of_wage','full_time_position','case_status' which is of the object type.All other attributes are of object type need to be converted to the right datatype\n",
    "- The number of non-null values of each column is equal to the number of total rows in the dataset i.e. no null value. We can further confirm this using `isna()` method."
   ]
  },
  {
   "cell_type": "code",
   "execution_count": 8,
   "id": "b8b47e92",
   "metadata": {},
   "outputs": [
    {
     "data": {
      "text/plain": [
       "case_id                  0\n",
       "continent                0\n",
       "education_of_employee    0\n",
       "has_job_experience       0\n",
       "requires_job_training    0\n",
       "no_of_employees          0\n",
       "yr_of_estab              0\n",
       "region_of_employment     0\n",
       "prevailing_wage          0\n",
       "unit_of_wage             0\n",
       "full_time_position       0\n",
       "case_status              0\n",
       "dtype: int64"
      ]
     },
     "execution_count": 8,
     "metadata": {},
     "output_type": "execute_result"
    }
   ],
   "source": [
    "# checking for duplicate values\n",
    "data[data.duplicated()].count()"
   ]
  },
  {
   "cell_type": "markdown",
   "id": "999eaffe",
   "metadata": {},
   "source": [
    "- There are no repeat data entries in the dataset that will need further cleaning"
   ]
  },
  {
   "cell_type": "code",
   "execution_count": 9,
   "id": "4b5d1ac8",
   "metadata": {},
   "outputs": [
    {
     "data": {
      "text/plain": [
       "case_id                  0\n",
       "continent                0\n",
       "education_of_employee    0\n",
       "has_job_experience       0\n",
       "requires_job_training    0\n",
       "no_of_employees          0\n",
       "yr_of_estab              0\n",
       "region_of_employment     0\n",
       "prevailing_wage          0\n",
       "unit_of_wage             0\n",
       "full_time_position       0\n",
       "case_status              0\n",
       "dtype: int64"
      ]
     },
     "execution_count": 9,
     "metadata": {},
     "output_type": "execute_result"
    }
   ],
   "source": [
    "data.isna().sum()\n",
    "#Check missing values in the data set"
   ]
  },
  {
   "cell_type": "markdown",
   "id": "37cedcfd",
   "metadata": {},
   "source": [
    "- There are no missing values in the data."
   ]
  },
  {
   "cell_type": "code",
   "execution_count": 10,
   "id": "fd6fe7c9",
   "metadata": {},
   "outputs": [
    {
     "data": {
      "text/plain": [
       "Index(['case_id', 'continent', 'education_of_employee', 'has_job_experience',\n",
       "       'requires_job_training', 'region_of_employment', 'unit_of_wage',\n",
       "       'full_time_position', 'case_status'],\n",
       "      dtype='object')"
      ]
     },
     "execution_count": 10,
     "metadata": {},
     "output_type": "execute_result"
    }
   ],
   "source": [
    "cols = data.select_dtypes(['object'])\n",
    "cols.columns"
   ]
  },
  {
   "cell_type": "code",
   "execution_count": 11,
   "id": "5bd03137",
   "metadata": {},
   "outputs": [],
   "source": [
    "for i in cols.columns:\n",
    "    data[i] = data[i].astype('category')"
   ]
  },
  {
   "cell_type": "code",
   "execution_count": 12,
   "id": "055833f5",
   "metadata": {},
   "outputs": [
    {
     "name": "stdout",
     "output_type": "stream",
     "text": [
      "<class 'pandas.core.frame.DataFrame'>\n",
      "RangeIndex: 25480 entries, 0 to 25479\n",
      "Data columns (total 12 columns):\n",
      " #   Column                 Non-Null Count  Dtype   \n",
      "---  ------                 --------------  -----   \n",
      " 0   case_id                25480 non-null  category\n",
      " 1   continent              25480 non-null  category\n",
      " 2   education_of_employee  25480 non-null  category\n",
      " 3   has_job_experience     25480 non-null  category\n",
      " 4   requires_job_training  25480 non-null  category\n",
      " 5   no_of_employees        25480 non-null  int64   \n",
      " 6   yr_of_estab            25480 non-null  int64   \n",
      " 7   region_of_employment   25480 non-null  category\n",
      " 8   prevailing_wage        25480 non-null  float64 \n",
      " 9   unit_of_wage           25480 non-null  category\n",
      " 10  full_time_position     25480 non-null  category\n",
      " 11  case_status            25480 non-null  category\n",
      "dtypes: category(9), float64(1), int64(2)\n",
      "memory usage: 2.0 MB\n"
     ]
    }
   ],
   "source": [
    "data.info()"
   ]
  },
  {
   "cell_type": "markdown",
   "id": "6d053739",
   "metadata": {},
   "source": [
    "## Summary of the dataset"
   ]
  },
  {
   "cell_type": "code",
   "execution_count": 13,
   "id": "581f2bd1",
   "metadata": {},
   "outputs": [
    {
     "data": {
      "text/html": [
       "<div>\n",
       "<style scoped>\n",
       "    .dataframe tbody tr th:only-of-type {\n",
       "        vertical-align: middle;\n",
       "    }\n",
       "\n",
       "    .dataframe tbody tr th {\n",
       "        vertical-align: top;\n",
       "    }\n",
       "\n",
       "    .dataframe thead th {\n",
       "        text-align: right;\n",
       "    }\n",
       "</style>\n",
       "<table border=\"1\" class=\"dataframe\">\n",
       "  <thead>\n",
       "    <tr style=\"text-align: right;\">\n",
       "      <th></th>\n",
       "      <th>count</th>\n",
       "      <th>mean</th>\n",
       "      <th>std</th>\n",
       "      <th>min</th>\n",
       "      <th>25%</th>\n",
       "      <th>50%</th>\n",
       "      <th>75%</th>\n",
       "      <th>max</th>\n",
       "    </tr>\n",
       "  </thead>\n",
       "  <tbody>\n",
       "    <tr>\n",
       "      <th>no_of_employees</th>\n",
       "      <td>25480.0</td>\n",
       "      <td>5667.043210</td>\n",
       "      <td>22877.928848</td>\n",
       "      <td>-26.0000</td>\n",
       "      <td>1022.00</td>\n",
       "      <td>2109.00</td>\n",
       "      <td>3504.0000</td>\n",
       "      <td>602069.00</td>\n",
       "    </tr>\n",
       "    <tr>\n",
       "      <th>yr_of_estab</th>\n",
       "      <td>25480.0</td>\n",
       "      <td>1979.409929</td>\n",
       "      <td>42.366929</td>\n",
       "      <td>1800.0000</td>\n",
       "      <td>1976.00</td>\n",
       "      <td>1997.00</td>\n",
       "      <td>2005.0000</td>\n",
       "      <td>2016.00</td>\n",
       "    </tr>\n",
       "    <tr>\n",
       "      <th>prevailing_wage</th>\n",
       "      <td>25480.0</td>\n",
       "      <td>74455.814592</td>\n",
       "      <td>52815.942327</td>\n",
       "      <td>2.1367</td>\n",
       "      <td>34015.48</td>\n",
       "      <td>70308.21</td>\n",
       "      <td>107735.5125</td>\n",
       "      <td>319210.27</td>\n",
       "    </tr>\n",
       "  </tbody>\n",
       "</table>\n",
       "</div>"
      ],
      "text/plain": [
       "                   count          mean           std        min       25%  \\\n",
       "no_of_employees  25480.0   5667.043210  22877.928848   -26.0000   1022.00   \n",
       "yr_of_estab      25480.0   1979.409929     42.366929  1800.0000   1976.00   \n",
       "prevailing_wage  25480.0  74455.814592  52815.942327     2.1367  34015.48   \n",
       "\n",
       "                      50%          75%        max  \n",
       "no_of_employees   2109.00    3504.0000  602069.00  \n",
       "yr_of_estab       1997.00    2005.0000    2016.00  \n",
       "prevailing_wage  70308.21  107735.5125  319210.27  "
      ]
     },
     "execution_count": 13,
     "metadata": {},
     "output_type": "execute_result"
    }
   ],
   "source": [
    "# Summary of continuous columns\n",
    "data.describe().T"
   ]
  },
  {
   "cell_type": "markdown",
   "id": "7d36cc78",
   "metadata": {},
   "source": [
    "- The mean and median value of no_of_employees is approx 5667 and 2109.This shows the possiblity of outliers.\n",
    "- Companies in the dataset with years of establishment is from 1800 to 2016.\n",
    "- The mean and median value for 'prevailing_wage' is approx 74455 and 70308 respectively.So data is slight right skewed. This indicates, slight right skewness in the data set. "
   ]
  },
  {
   "cell_type": "code",
   "execution_count": 14,
   "id": "592aec9d",
   "metadata": {},
   "outputs": [
    {
     "data": {
      "text/html": [
       "<div>\n",
       "<style scoped>\n",
       "    .dataframe tbody tr th:only-of-type {\n",
       "        vertical-align: middle;\n",
       "    }\n",
       "\n",
       "    .dataframe tbody tr th {\n",
       "        vertical-align: top;\n",
       "    }\n",
       "\n",
       "    .dataframe thead th {\n",
       "        text-align: right;\n",
       "    }\n",
       "</style>\n",
       "<table border=\"1\" class=\"dataframe\">\n",
       "  <thead>\n",
       "    <tr style=\"text-align: right;\">\n",
       "      <th></th>\n",
       "      <th>count</th>\n",
       "      <th>unique</th>\n",
       "      <th>top</th>\n",
       "      <th>freq</th>\n",
       "    </tr>\n",
       "  </thead>\n",
       "  <tbody>\n",
       "    <tr>\n",
       "      <th>case_id</th>\n",
       "      <td>25480</td>\n",
       "      <td>25480</td>\n",
       "      <td>EZYV01</td>\n",
       "      <td>1</td>\n",
       "    </tr>\n",
       "    <tr>\n",
       "      <th>continent</th>\n",
       "      <td>25480</td>\n",
       "      <td>6</td>\n",
       "      <td>Asia</td>\n",
       "      <td>16861</td>\n",
       "    </tr>\n",
       "    <tr>\n",
       "      <th>education_of_employee</th>\n",
       "      <td>25480</td>\n",
       "      <td>4</td>\n",
       "      <td>Bachelor's</td>\n",
       "      <td>10234</td>\n",
       "    </tr>\n",
       "    <tr>\n",
       "      <th>has_job_experience</th>\n",
       "      <td>25480</td>\n",
       "      <td>2</td>\n",
       "      <td>Y</td>\n",
       "      <td>14802</td>\n",
       "    </tr>\n",
       "    <tr>\n",
       "      <th>requires_job_training</th>\n",
       "      <td>25480</td>\n",
       "      <td>2</td>\n",
       "      <td>N</td>\n",
       "      <td>22525</td>\n",
       "    </tr>\n",
       "    <tr>\n",
       "      <th>region_of_employment</th>\n",
       "      <td>25480</td>\n",
       "      <td>5</td>\n",
       "      <td>Northeast</td>\n",
       "      <td>7195</td>\n",
       "    </tr>\n",
       "    <tr>\n",
       "      <th>unit_of_wage</th>\n",
       "      <td>25480</td>\n",
       "      <td>4</td>\n",
       "      <td>Year</td>\n",
       "      <td>22962</td>\n",
       "    </tr>\n",
       "    <tr>\n",
       "      <th>full_time_position</th>\n",
       "      <td>25480</td>\n",
       "      <td>2</td>\n",
       "      <td>Y</td>\n",
       "      <td>22773</td>\n",
       "    </tr>\n",
       "    <tr>\n",
       "      <th>case_status</th>\n",
       "      <td>25480</td>\n",
       "      <td>2</td>\n",
       "      <td>Certified</td>\n",
       "      <td>17018</td>\n",
       "    </tr>\n",
       "  </tbody>\n",
       "</table>\n",
       "</div>"
      ],
      "text/plain": [
       "                       count unique         top   freq\n",
       "case_id                25480  25480      EZYV01      1\n",
       "continent              25480      6        Asia  16861\n",
       "education_of_employee  25480      4  Bachelor's  10234\n",
       "has_job_experience     25480      2           Y  14802\n",
       "requires_job_training  25480      2           N  22525\n",
       "region_of_employment   25480      5   Northeast   7195\n",
       "unit_of_wage           25480      4        Year  22962\n",
       "full_time_position     25480      2           Y  22773\n",
       "case_status            25480      2   Certified  17018"
      ]
     },
     "execution_count": 14,
     "metadata": {},
     "output_type": "execute_result"
    }
   ],
   "source": [
    "data.describe(include=['category']).T"
   ]
  },
  {
   "cell_type": "markdown",
   "id": "11f07769",
   "metadata": {},
   "source": [
    "- case_id attribute can be dropped since it is a unique ID.\n",
    "- There are 6 continents.\n",
    "- Top applicants are from Asia.\n",
    "- There are 4 different levels of eduction.\n",
    "- Most employees have  Bachelors as  highest education.\n",
    "- Majority applicants have job experience.\n",
    "- 5 different regions in the US requiring immigrants due to Human Resource shortages.\n",
    "- Maximumemployment is being in the NorthEast.\n",
    "- There are 4 different units of wages"
   ]
  },
  {
   "cell_type": "markdown",
   "id": "f448f72e",
   "metadata": {},
   "source": [
    "## Number of unique values in each column"
   ]
  },
  {
   "cell_type": "code",
   "execution_count": 15,
   "id": "02198611",
   "metadata": {},
   "outputs": [
    {
     "data": {
      "text/plain": [
       "case_id                  25480\n",
       "continent                    6\n",
       "education_of_employee        4\n",
       "has_job_experience           2\n",
       "requires_job_training        2\n",
       "no_of_employees           7105\n",
       "yr_of_estab                199\n",
       "region_of_employment         5\n",
       "prevailing_wage          25454\n",
       "unit_of_wage                 4\n",
       "full_time_position           2\n",
       "case_status                  2\n",
       "dtype: int64"
      ]
     },
     "execution_count": 15,
     "metadata": {},
     "output_type": "execute_result"
    }
   ],
   "source": [
    "data.nunique()"
   ]
  },
  {
   "cell_type": "markdown",
   "id": "1e1f3f70",
   "metadata": {},
   "source": [
    "- We can drop 'case_id' column as it is an ID variable and will not add value to the model."
   ]
  },
  {
   "cell_type": "code",
   "execution_count": 16,
   "id": "b51b0def",
   "metadata": {},
   "outputs": [],
   "source": [
    "data.drop(['case_id'],axis=1,inplace=True)"
   ]
  },
  {
   "cell_type": "code",
   "execution_count": 17,
   "id": "6498450b",
   "metadata": {},
   "outputs": [
    {
     "data": {
      "text/plain": [
       "(25480, 11)"
      ]
     },
     "execution_count": 17,
     "metadata": {},
     "output_type": "execute_result"
    }
   ],
   "source": [
    "data.shape"
   ]
  },
  {
   "cell_type": "markdown",
   "id": "4080dae4",
   "metadata": {},
   "source": [
    "## Exploratory Data Analysis (EDA)\n",
    "\n",
    "- EDA is an important part of any project involving data.\n",
    "- It is important to investigate and understand the data better before building a model with it.\n",
    "- A few questions have been mentioned below which will help you approach the analysis in the right manner and generate insights from the data.\n",
    "- A thorough analysis of the data, in addition to the questions mentioned below, should be done."
   ]
  },
  {
   "cell_type": "markdown",
   "id": "24191ec0",
   "metadata": {
    "id": "right-permit"
   },
   "source": [
    "## Univariate analysis"
   ]
  },
  {
   "cell_type": "code",
   "execution_count": 18,
   "id": "bea9ebf1",
   "metadata": {},
   "outputs": [],
   "source": [
    "# function to plot a boxplot and a histogram along the same scale.\n",
    "\n",
    "\n",
    "def histogram_boxplot(data, feature, figsize=(12, 7), kde=False, bins=None):\n",
    "    \"\"\"\n",
    "    Boxplot and histogram combined\n",
    "\n",
    "    data: dataframe\n",
    "    feature: dataframe column\n",
    "    figsize: size of figure (default (12,7))\n",
    "    kde: whether to the show density curve (default False)\n",
    "    bins: number of bins for histogram (default None)\n",
    "    \"\"\"\n",
    "    f2, (ax_box2, ax_hist2) = plt.subplots(\n",
    "        nrows=2,  # Number of rows of the subplot grid= 2\n",
    "        sharex=True,  # x-axis will be shared among all subplots\n",
    "        gridspec_kw={\"height_ratios\": (0.25, 0.75)},\n",
    "        figsize=figsize,\n",
    "    )  # creating the 2 subplots\n",
    "    sns.boxplot(\n",
    "        data=data, x=feature, ax=ax_box2, showmeans=True, color=\"violet\"\n",
    "    )  # boxplot will be created and a star will indicate the mean value of the column\n",
    "    sns.histplot(\n",
    "        data=data, x=feature, kde=kde, ax=ax_hist2, bins=bins, palette=\"winter\"\n",
    "    ) if bins else sns.histplot(\n",
    "        data=data, x=feature, kde=kde, ax=ax_hist2\n",
    "    )  # For histogram\n",
    "    ax_hist2.axvline(\n",
    "        data[feature].mean(), color=\"green\", linestyle=\"--\"\n",
    "    )  # Add mean to the histogram\n",
    "    ax_hist2.axvline(\n",
    "        data[feature].median(), color=\"black\", linestyle=\"-\"\n",
    "    )  # Add median to the histogram"
   ]
  },
  {
   "cell_type": "markdown",
   "id": "d3faa555",
   "metadata": {},
   "source": [
    "### Observations on number of employees"
   ]
  },
  {
   "cell_type": "code",
   "execution_count": 19,
   "id": "5b1ba2c5",
   "metadata": {},
   "outputs": [
    {
     "data": {
      "image/png": "[encoded data removed]",
      "text/plain": [
       "<Figure size 864x504 with 2 Axes>"
      ]
     },
     "metadata": {
      "needs_background": "light"
     },
     "output_type": "display_data"
    }
   ],
   "source": [
    "#Observations on no_of_employees\n",
    "histogram_boxplot(data, \"no_of_employees\")"
   ]
  },
  {
   "cell_type": "markdown",
   "id": "48a8e532",
   "metadata": {},
   "source": [
    "- Number of employees for employers is skewed right"
   ]
  },
  {
   "cell_type": "markdown",
   "id": "fedd2a4b",
   "metadata": {},
   "source": [
    "### Observations on year_of_establishment"
   ]
  },
  {
   "cell_type": "code",
   "execution_count": 20,
   "id": "f1d59c1c",
   "metadata": {},
   "outputs": [
    {
     "data": {
      "image/png": "[encoded data removed]",
      "text/plain": [
       "<Figure size 864x504 with 2 Axes>"
      ]
     },
     "metadata": {
      "needs_background": "light"
     },
     "output_type": "display_data"
    }
   ],
   "source": [
    "#Observations on year_of_establishment\n",
    "histogram_boxplot(data, \"yr_of_estab\")"
   ]
  },
  {
   "cell_type": "markdown",
   "id": "dbeb6f6f",
   "metadata": {},
   "source": [
    "- Distribution for year established is skewed left"
   ]
  },
  {
   "cell_type": "markdown",
   "id": "f8ebcb6b",
   "metadata": {},
   "source": [
    "### Observations on prevailing_wage"
   ]
  },
  {
   "cell_type": "code",
   "execution_count": 21,
   "id": "a9d05b77",
   "metadata": {},
   "outputs": [
    {
     "data": {
      "image/png": "[encoded data removed]",
      "text/plain": [
       "<Figure size 864x504 with 2 Axes>"
      ]
     },
     "metadata": {
      "needs_background": "light"
     },
     "output_type": "display_data"
    }
   ],
   "source": [
    "#Observations on prevailing_wage\n",
    "histogram_boxplot(data, \"prevailing_wage\")"
   ]
  },
  {
   "cell_type": "markdown",
   "id": "d1c6761b",
   "metadata": {},
   "source": [
    "- There is outliers"
   ]
  },
  {
   "cell_type": "code",
   "execution_count": 22,
   "id": "e2009720",
   "metadata": {},
   "outputs": [],
   "source": [
    "# function to create labeled barplots\n",
    "\n",
    "\n",
    "def labeled_barplot(data, feature, perc=False, n=None):\n",
    "    \"\"\"\n",
    "    Barplot with percentage at the top\n",
    "\n",
    "    data: dataframe\n",
    "    feature: dataframe column\n",
    "    perc: whether to display percentages instead of count (default is False)\n",
    "    n: displays the top n category levels (default is None, i.e., display all levels)\n",
    "    \"\"\"\n",
    "\n",
    "    total = len(data[feature])  # length of the column\n",
    "    count = data[feature].nunique()\n",
    "    if n is None:\n",
    "        plt.figure(figsize=(count + 1, 5))\n",
    "    else:\n",
    "        plt.figure(figsize=(n + 1, 5))\n",
    "\n",
    "    plt.xticks(rotation=90, fontsize=15)\n",
    "    ax = sns.countplot(\n",
    "        data=data,\n",
    "        x=feature,\n",
    "        palette=\"Paired\",\n",
    "        order=data[feature].value_counts().index[:n].sort_values(),\n",
    "    )\n",
    "\n",
    "    for p in ax.patches:\n",
    "        if perc == True:\n",
    "            label = \"{:.1f}%\".format(\n",
    "                100 * p.get_height() / total\n",
    "            )  # percentage of each class of the category\n",
    "        else:\n",
    "            label = p.get_height()  # count of each level of the category\n",
    "\n",
    "        x = p.get_x() + p.get_width() / 2  # width of the plot\n",
    "        y = p.get_height()  # height of the plot\n",
    "\n",
    "        ax.annotate(\n",
    "            label,\n",
    "            (x, y),\n",
    "            ha=\"center\",\n",
    "            va=\"center\",\n",
    "            size=12,\n",
    "            xytext=(0, 5),\n",
    "            textcoords=\"offset points\",\n",
    "        )  # annotate the percentage\n",
    "\n",
    "    plt.show()  # show the plot"
   ]
  },
  {
   "cell_type": "markdown",
   "id": "4531590a",
   "metadata": {},
   "source": [
    "### Observations on  unit_of_wage"
   ]
  },
  {
   "cell_type": "code",
   "execution_count": 23,
   "id": "b7c3d203",
   "metadata": {},
   "outputs": [
    {
     "data": {
      "image/png": "[encoded data removed]",
      "text/plain": [
       "<Figure size 360x360 with 1 Axes>"
      ]
     },
     "metadata": {
      "needs_background": "light"
     },
     "output_type": "display_data"
    }
   ],
   "source": [
    "labeled_barplot(data, \"unit_of_wage\", perc=True);"
   ]
  },
  {
   "cell_type": "markdown",
   "id": "1e8c8935",
   "metadata": {},
   "source": [
    "-  90% of all entries are with unit_of_wage as yearly \n",
    "- 8.5% entries as hourly"
   ]
  },
  {
   "cell_type": "markdown",
   "id": "1cbfdd86",
   "metadata": {},
   "source": [
    "### Observations on  unit_of_wage"
   ]
  },
  {
   "cell_type": "code",
   "execution_count": 24,
   "id": "14520bb8",
   "metadata": {},
   "outputs": [
    {
     "data": {
      "image/png": "[encoded data removed]",
      "text/plain": [
       "<Figure size 864x504 with 2 Axes>"
      ]
     },
     "metadata": {
      "needs_background": "light"
     },
     "output_type": "display_data"
    }
   ],
   "source": [
    "#Observations specifically on data where unit_of_wage is yearly\n",
    "histogram_boxplot(data[(data[\"unit_of_wage\"]==\"Year\")], \"prevailing_wage\")"
   ]
  },
  {
   "cell_type": "markdown",
   "id": "f278c2db",
   "metadata": {},
   "source": [
    "- Median and mean annual salary is approx. USD 70,000\n"
   ]
  },
  {
   "cell_type": "code",
   "execution_count": 25,
   "id": "fc84919c",
   "metadata": {},
   "outputs": [
    {
     "data": {
      "text/html": [
       "<div>\n",
       "<style scoped>\n",
       "    .dataframe tbody tr th:only-of-type {\n",
       "        vertical-align: middle;\n",
       "    }\n",
       "\n",
       "    .dataframe tbody tr th {\n",
       "        vertical-align: top;\n",
       "    }\n",
       "\n",
       "    .dataframe thead th {\n",
       "        text-align: right;\n",
       "    }\n",
       "</style>\n",
       "<table border=\"1\" class=\"dataframe\">\n",
       "  <thead>\n",
       "    <tr style=\"text-align: right;\">\n",
       "      <th></th>\n",
       "      <th>count</th>\n",
       "      <th>mean</th>\n",
       "      <th>std</th>\n",
       "      <th>min</th>\n",
       "      <th>25%</th>\n",
       "      <th>50%</th>\n",
       "      <th>75%</th>\n",
       "      <th>max</th>\n",
       "    </tr>\n",
       "  </thead>\n",
       "  <tbody>\n",
       "    <tr>\n",
       "      <th>no_of_employees</th>\n",
       "      <td>25480.0</td>\n",
       "      <td>5667.043210</td>\n",
       "      <td>22877.928848</td>\n",
       "      <td>-26.0000</td>\n",
       "      <td>1022.00</td>\n",
       "      <td>2109.00</td>\n",
       "      <td>3504.0000</td>\n",
       "      <td>602069.00</td>\n",
       "    </tr>\n",
       "    <tr>\n",
       "      <th>yr_of_estab</th>\n",
       "      <td>25480.0</td>\n",
       "      <td>1979.409929</td>\n",
       "      <td>42.366929</td>\n",
       "      <td>1800.0000</td>\n",
       "      <td>1976.00</td>\n",
       "      <td>1997.00</td>\n",
       "      <td>2005.0000</td>\n",
       "      <td>2016.00</td>\n",
       "    </tr>\n",
       "    <tr>\n",
       "      <th>prevailing_wage</th>\n",
       "      <td>25480.0</td>\n",
       "      <td>74455.814592</td>\n",
       "      <td>52815.942327</td>\n",
       "      <td>2.1367</td>\n",
       "      <td>34015.48</td>\n",
       "      <td>70308.21</td>\n",
       "      <td>107735.5125</td>\n",
       "      <td>319210.27</td>\n",
       "    </tr>\n",
       "  </tbody>\n",
       "</table>\n",
       "</div>"
      ],
      "text/plain": [
       "                   count          mean           std        min       25%  \\\n",
       "no_of_employees  25480.0   5667.043210  22877.928848   -26.0000   1022.00   \n",
       "yr_of_estab      25480.0   1979.409929     42.366929  1800.0000   1976.00   \n",
       "prevailing_wage  25480.0  74455.814592  52815.942327     2.1367  34015.48   \n",
       "\n",
       "                      50%          75%        max  \n",
       "no_of_employees   2109.00    3504.0000  602069.00  \n",
       "yr_of_estab       1997.00    2005.0000    2016.00  \n",
       "prevailing_wage  70308.21  107735.5125  319210.27  "
      ]
     },
     "execution_count": 25,
     "metadata": {},
     "output_type": "execute_result"
    }
   ],
   "source": [
    "# Summary of continuous columns\n",
    "data.describe().T"
   ]
  },
  {
   "cell_type": "markdown",
   "id": "4acde5fc",
   "metadata": {},
   "source": [
    "- Average and median annual salary is approx. USD 70,000 \n",
    "-There is outliers from 20,0000 to 300000.\n"
   ]
  },
  {
   "cell_type": "markdown",
   "id": "0865ef03",
   "metadata": {},
   "source": [
    "### Observations on  data where unit_of_wage is weekly or monthly"
   ]
  },
  {
   "cell_type": "code",
   "execution_count": 26,
   "id": "abed8f3a",
   "metadata": {},
   "outputs": [
    {
     "data": {
      "image/png": "[encoded data removed]",
      "text/plain": [
       "<Figure size 864x504 with 2 Axes>"
      ]
     },
     "metadata": {
      "needs_background": "light"
     },
     "output_type": "display_data"
    }
   ],
   "source": [
    "#Observations specifically on data where unit_of_wage is weekly or monthly\n",
    "histogram_boxplot(data[(data[\"unit_of_wage\"]==\"Month\")], \"prevailing_wage\")"
   ]
  },
  {
   "cell_type": "markdown",
   "id": "8ba2e713",
   "metadata": {},
   "source": [
    "### Observations on  data where unit_of_wage is weekly or week"
   ]
  },
  {
   "cell_type": "code",
   "execution_count": 27,
   "id": "2424cb09",
   "metadata": {},
   "outputs": [
    {
     "data": {
      "image/png": "[encoded data removed]",
      "text/plain": [
       "<Figure size 864x504 with 2 Axes>"
      ]
     },
     "metadata": {
      "needs_background": "light"
     },
     "output_type": "display_data"
    }
   ],
   "source": [
    "histogram_boxplot(data[(data[\"unit_of_wage\"]==\"Week\")], \"prevailing_wage\")"
   ]
  },
  {
   "cell_type": "markdown",
   "id": "0edb8ba0",
   "metadata": {},
   "source": [
    "### Observations on  data where unit_of_wage is hourly"
   ]
  },
  {
   "cell_type": "code",
   "execution_count": 28,
   "id": "1d8eafbf",
   "metadata": {},
   "outputs": [
    {
     "data": {
      "image/png": "[encoded data removed]",
      "text/plain": [
       "<Figure size 864x504 with 2 Axes>"
      ]
     },
     "metadata": {
      "needs_background": "light"
     },
     "output_type": "display_data"
    }
   ],
   "source": [
    "#Observations specifically on data where unit_of_wage is hourly \n",
    "histogram_boxplot(data[data[\"unit_of_wage\"]==\"Hour\"], \"prevailing_wage\")"
   ]
  },
  {
   "cell_type": "markdown",
   "id": "c103306c",
   "metadata": {},
   "source": [
    "-  prevailing_wage is likely a weekly salary where unit_of_wage is hourly"
   ]
  },
  {
   "cell_type": "code",
   "execution_count": 29,
   "id": "d89ffc8d",
   "metadata": {},
   "outputs": [],
   "source": [
    "data.loc[data[\"unit_of_wage\"]==\"Hour\", \"prevailing_wage\"] = \\\n",
    "data.loc[data[\"unit_of_wage\"]==\"Hour\", \"prevailing_wage\"]*52\n",
    "# assuming 52 paid weeks per year"
   ]
  },
  {
   "cell_type": "code",
   "execution_count": 30,
   "id": "6bb8a96b",
   "metadata": {},
   "outputs": [],
   "source": [
    "data[\"unit_of_wage\"] = data[\"unit_of_wage\"].astype('object')\n",
    "data.loc[data[\"unit_of_wage\"]==\"Hour\", \"unit_of_wage\"] = \"Hourly\"\n",
    "data.loc[data[\"unit_of_wage\"]==\"Week\", \"unit_of_wage\"] = \"Not_Hourly\"\n",
    "data.loc[data[\"unit_of_wage\"]==\"Month\", \"unit_of_wage\"] = \"Not_Hourly\"\n",
    "data.loc[data[\"unit_of_wage\"]==\"Year\", \"unit_of_wage\"] = \"Not_Hourly\"\n",
    "data[\"unit_of_wage\"] = data[\"unit_of_wage\"].astype('category')"
   ]
  },
  {
   "cell_type": "code",
   "execution_count": 31,
   "id": "2a1488c2",
   "metadata": {},
   "outputs": [
    {
     "data": {
      "image/png": "[encoded data removed]",
      "text/plain": [
       "<Figure size 216x360 with 1 Axes>"
      ]
     },
     "metadata": {
      "needs_background": "light"
     },
     "output_type": "display_data"
    }
   ],
   "source": [
    "labeled_barplot(data, \"unit_of_wage\", perc=True)"
   ]
  },
  {
   "cell_type": "code",
   "execution_count": 32,
   "id": "0b99a8b7",
   "metadata": {},
   "outputs": [
    {
     "data": {
      "image/png": "[encoded data removed]",
      "text/plain": [
       "<Figure size 864x504 with 2 Axes>"
      ]
     },
     "metadata": {
      "needs_background": "light"
     },
     "output_type": "display_data"
    }
   ],
   "source": [
    "histogram_boxplot(data, \"prevailing_wage\")"
   ]
  },
  {
   "cell_type": "markdown",
   "id": "cda63263",
   "metadata": {},
   "source": [
    "- There is outliers"
   ]
  },
  {
   "cell_type": "markdown",
   "id": "2afa4f9a",
   "metadata": {},
   "source": [
    "### Observations on continent"
   ]
  },
  {
   "cell_type": "code",
   "execution_count": 33,
   "id": "28f34dc7",
   "metadata": {},
   "outputs": [
    {
     "data": {
      "image/png": "[encoded data removed]",
      "text/plain": [
       "<Figure size 504x360 with 1 Axes>"
      ]
     },
     "metadata": {
      "needs_background": "light"
     },
     "output_type": "display_data"
    }
   ],
   "source": [
    "#Observations on continent\n",
    "labeled_barplot(data, \"continent\", perc=True)"
   ]
  },
  {
   "cell_type": "markdown",
   "id": "c28a9106",
   "metadata": {},
   "source": [
    "- 66.2% of employees are from Asia"
   ]
  },
  {
   "cell_type": "markdown",
   "id": "2b33a2c5",
   "metadata": {},
   "source": [
    "### Observations on education of employee"
   ]
  },
  {
   "cell_type": "code",
   "execution_count": 34,
   "id": "34580eeb",
   "metadata": {},
   "outputs": [
    {
     "data": {
      "image/png": "[encoded data removed]",
      "text/plain": [
       "<Figure size 360x360 with 1 Axes>"
      ]
     },
     "metadata": {
      "needs_background": "light"
     },
     "output_type": "display_data"
    }
   ],
   "source": [
    "#Observations on education\n",
    "labeled_barplot(data, \"education_of_employee\", perc=True)"
   ]
  },
  {
   "cell_type": "markdown",
   "id": "26786c39",
   "metadata": {},
   "source": [
    "- 40% of employees have either a bachelor's \n",
    "- 38% has master's (38%) \n",
    "- 8% of applicants have a doctorate\n",
    "- 13% HAS high school diploma"
   ]
  },
  {
   "cell_type": "markdown",
   "id": "8a7f80a1",
   "metadata": {},
   "source": [
    "### Observations on job_experience"
   ]
  },
  {
   "cell_type": "code",
   "execution_count": 35,
   "id": "6e5c5a91",
   "metadata": {},
   "outputs": [
    {
     "data": {
      "image/png": "[encoded data removed]",
      "text/plain": [
       "<Figure size 216x360 with 1 Axes>"
      ]
     },
     "metadata": {
      "needs_background": "light"
     },
     "output_type": "display_data"
    }
   ],
   "source": [
    "#Observations on job_experience\n",
    "labeled_barplot(data, \"has_job_experience\", perc=True)"
   ]
  },
  {
   "cell_type": "markdown",
   "id": "61083acc",
   "metadata": {},
   "source": [
    "-  58% employees have job experience\n",
    "- 42% employees do not"
   ]
  },
  {
   "cell_type": "markdown",
   "id": "32bece91",
   "metadata": {},
   "source": [
    "### Observations on job training"
   ]
  },
  {
   "cell_type": "code",
   "execution_count": 36,
   "id": "31ab22e9",
   "metadata": {},
   "outputs": [
    {
     "data": {
      "image/png": "[encoded data removed]",
      "text/plain": [
       "<Figure size 216x360 with 1 Axes>"
      ]
     },
     "metadata": {
      "needs_background": "light"
     },
     "output_type": "display_data"
    }
   ],
   "source": [
    "#Observations on requires_training\n",
    "labeled_barplot(data, \"requires_job_training\", perc=True)"
   ]
  },
  {
   "cell_type": "markdown",
   "id": "4c2a2c3a",
   "metadata": {},
   "source": [
    "- 88% do not require job training \n",
    "-  58% had prior job experience"
   ]
  },
  {
   "cell_type": "markdown",
   "id": "34e9b5da",
   "metadata": {},
   "source": [
    "### Observations on region of employment "
   ]
  },
  {
   "cell_type": "code",
   "execution_count": 37,
   "id": "a3574444",
   "metadata": {},
   "outputs": [
    {
     "data": {
      "image/png": "[encoded data removed]",
      "text/plain": [
       "<Figure size 432x360 with 1 Axes>"
      ]
     },
     "metadata": {
      "needs_background": "light"
     },
     "output_type": "display_data"
    }
   ],
   "source": [
    "#Observations on region_of_employment \n",
    "labeled_barplot(data, \"region_of_employment\", perc=True)"
   ]
  },
  {
   "cell_type": "markdown",
   "id": "b6668338",
   "metadata": {},
   "source": [
    "- Northeast, South and West have around employment opportunities"
   ]
  },
  {
   "cell_type": "markdown",
   "id": "05f3cdeb",
   "metadata": {},
   "source": [
    "### Observations on full time position"
   ]
  },
  {
   "cell_type": "code",
   "execution_count": 38,
   "id": "5217fcfa",
   "metadata": {},
   "outputs": [
    {
     "data": {
      "image/png": "[encoded data removed]",
      "text/plain": [
       "<Figure size 216x360 with 1 Axes>"
      ]
     },
     "metadata": {
      "needs_background": "light"
     },
     "output_type": "display_data"
    }
   ],
   "source": [
    "#Observations on full_time_position\n",
    "labeled_barplot(data, \"full_time_position\", perc=True)"
   ]
  },
  {
   "cell_type": "markdown",
   "id": "9fb04cb1",
   "metadata": {},
   "source": [
    "- 88% are full time positions"
   ]
  },
  {
   "cell_type": "markdown",
   "id": "7b4651ce",
   "metadata": {},
   "source": [
    "### Observations on case status"
   ]
  },
  {
   "cell_type": "code",
   "execution_count": 39,
   "id": "737511c9",
   "metadata": {},
   "outputs": [
    {
     "data": {
      "image/png": "[encoded data removed]",
      "text/plain": [
       "<Figure size 216x360 with 1 Axes>"
      ]
     },
     "metadata": {
      "needs_background": "light"
     },
     "output_type": "display_data"
    }
   ],
   "source": [
    "#Observations on case_status\n",
    "labeled_barplot(data, \"case_status\", perc=True)"
   ]
  },
  {
   "cell_type": "markdown",
   "id": "31a239fb",
   "metadata": {},
   "source": [
    "- 67% cases are approved and 33% cases are denied"
   ]
  },
  {
   "cell_type": "markdown",
   "id": "670b9de2",
   "metadata": {},
   "source": [
    "## Bivariate analysis"
   ]
  },
  {
   "cell_type": "code",
   "execution_count": 40,
   "id": "d251a40f",
   "metadata": {},
   "outputs": [
    {
     "data": {
      "image/png": "[encoded data removed]",
      "text/plain": [
       "<Figure size 1080x360 with 2 Axes>"
      ]
     },
     "metadata": {
      "needs_background": "light"
     },
     "output_type": "display_data"
    }
   ],
   "source": [
    "#number of employees and case status\n",
    "fig,ax=plt.subplots(1,2, figsize=(15,5))\n",
    "sns.histplot(data=data[data[\"no_of_employees\"]<20000], x=\"no_of_employees\", hue=\"case_status\", ax=ax[0]);\n",
    "sns.histplot(data=data[data[\"no_of_employees\"]>20000], x=\"no_of_employees\", hue=\"case_status\", ax=ax[1]);"
   ]
  },
  {
   "cell_type": "markdown",
   "id": "a9fc3acc",
   "metadata": {},
   "source": [
    "- Lot of outliers , hence further treatment will be needed."
   ]
  },
  {
   "cell_type": "code",
   "execution_count": 41,
   "id": "c997d99c",
   "metadata": {},
   "outputs": [],
   "source": [
    "data[\"no_of_employees\"] = pd.cut( data[\"no_of_employees\"], \\\n",
    "                                  [0, 2500, 7500, np.inf], \\\n",
    "                                  labels = [\"Small_Sized(<2500employees)\", \\\n",
    "                                            \"Medium_Sized(2500-7500employees)\", \\\n",
    "                                            \"Large_Sized(>75000employees)\"])\n",
    "data[\"no_of_employees\"] = data[\"no_of_employees\"].astype(\"category\")"
   ]
  },
  {
   "cell_type": "code",
   "execution_count": 42,
   "id": "fe4002cc",
   "metadata": {},
   "outputs": [],
   "source": [
    "def stacked_barplot(data, predictor, target):\n",
    "    \"\"\"\n",
    "    Print the category counts and plot a stacked bar chart\n",
    "\n",
    "    data: dataframe\n",
    "    predictor: independent variable\n",
    "    target: target variable\n",
    "    \"\"\"\n",
    "    count = data[predictor].nunique()\n",
    "    sorter = data[target].value_counts().index[-1]\n",
    "    tab1 = pd.crosstab(data[predictor], data[target], margins=True).sort_values(\n",
    "        by=sorter, ascending=False\n",
    "    )\n",
    "    print(tab1)\n",
    "    print(\"-\" * 120)\n",
    "    tab = pd.crosstab(data[predictor], data[target], normalize=\"index\").sort_values(\n",
    "        by=sorter, ascending=False\n",
    "    )\n",
    "    tab.plot(kind=\"bar\", stacked=True, figsize=(count + 5, 5))\n",
    "    plt.legend(\n",
    "        loc=\"lower left\", frameon=False,\n",
    "    )\n",
    "    plt.legend(loc=\"upper left\", bbox_to_anchor=(1, 1))\n",
    "    plt.show()\n",
    "\n"
   ]
  },
  {
   "cell_type": "code",
   "execution_count": 43,
   "id": "41c873f1",
   "metadata": {},
   "outputs": [
    {
     "name": "stdout",
     "output_type": "stream",
     "text": [
      "case_status                       Certified  Denied    All\n",
      "no_of_employees                                           \n",
      "All                                   17001    8446  25447\n",
      "Small_Sized(<2500employees)            9674    5084  14758\n",
      "Medium_Sized(2500-7500employees)       6272    2874   9146\n",
      "Large_Sized(>75000employees)           1055     488   1543\n",
      "------------------------------------------------------------------------------------------------------------------------\n"
     ]
    },
    {
     "data": {
      "image/png": "[encoded data removed]",
      "text/plain": [
       "<Figure size 576x360 with 1 Axes>"
      ]
     },
     "metadata": {
      "needs_background": "light"
     },
     "output_type": "display_data"
    }
   ],
   "source": [
    "stacked_barplot(data, \"no_of_employees\", \"case_status\")"
   ]
  },
  {
   "cell_type": "markdown",
   "id": "bf3a66a5",
   "metadata": {},
   "source": [
    "- 65% of cases in all categories are certified\n",
    "- 58% are small sized companies \n",
    "- 36% are medium_sized \n",
    "- 6% are larege sized companies "
   ]
  },
  {
   "cell_type": "code",
   "execution_count": 44,
   "id": "9fca5469",
   "metadata": {},
   "outputs": [
    {
     "data": {
      "image/png": "[encoded data removed]",
      "text/plain": [
       "<Figure size 1440x360 with 1 Axes>"
      ]
     },
     "metadata": {
      "needs_background": "light"
     },
     "output_type": "display_data"
    }
   ],
   "source": [
    "#year of establishment and case_status\n",
    "plt.figure(figsize=(20,5))\n",
    "sns.histplot(data, x=\"yr_of_estab\", hue=\"case_status\");"
   ]
  },
  {
   "cell_type": "markdown",
   "id": "d7bcabc2",
   "metadata": {},
   "source": [
    "-  50% of all cases are certified than denied for employers\n",
    "- There are outliers\n"
   ]
  },
  {
   "cell_type": "code",
   "execution_count": 45,
   "id": "35528606",
   "metadata": {},
   "outputs": [],
   "source": [
    "data[\"yr_of_estab\"] = pd.cut( data[\"yr_of_estab\"], \\\n",
    "                                  [-np.inf, 1990, np.inf], \\\n",
    "                                  labels = [\"Older_Estab(1800-1990)\", \\\n",
    "                                            \"Newer_Estab(>1990)\"])\n",
    "data[\"yr_of_estab\"] = data[\"yr_of_estab\"].astype(\"category\")"
   ]
  },
  {
   "cell_type": "code",
   "execution_count": 46,
   "id": "78cbe777",
   "metadata": {},
   "outputs": [
    {
     "name": "stdout",
     "output_type": "stream",
     "text": [
      "case_status             Certified  Denied    All\n",
      "yr_of_estab                                     \n",
      "All                         17018    8462  25480\n",
      "Newer_Estab(>1990)          10437    5093  15530\n",
      "Older_Estab(1800-1990)       6581    3369   9950\n",
      "------------------------------------------------------------------------------------------------------------------------\n"
     ]
    },
    {
     "data": {
      "image/png": "[encoded data removed]",
      "text/plain": [
       "<Figure size 504x360 with 1 Axes>"
      ]
     },
     "metadata": {
      "needs_background": "light"
     },
     "output_type": "display_data"
    }
   ],
   "source": [
    "stacked_barplot(data, \"yr_of_estab\", \"case_status\")"
   ]
  },
  {
   "cell_type": "markdown",
   "id": "3ec0b767",
   "metadata": {},
   "source": [
    "- 65% of cases in both categories are approved\n",
    "-  61% of employers were established after 1990 \n",
    "- 39% of employers before 1990"
   ]
  },
  {
   "cell_type": "code",
   "execution_count": 47,
   "id": "74b55599",
   "metadata": {},
   "outputs": [
    {
     "name": "stdout",
     "output_type": "stream",
     "text": [
      "case_status            Certified  Denied    All\n",
      "requires_job_training                          \n",
      "All                        17018    8462  25480\n",
      "N                          15012    7513  22525\n",
      "Y                           2006     949   2955\n",
      "------------------------------------------------------------------------------------------------------------------------\n"
     ]
    },
    {
     "data": {
      "image/png": "[encoded data removed]",
      "text/plain": [
       "<Figure size 504x360 with 1 Axes>"
      ]
     },
     "metadata": {
      "needs_background": "light"
     },
     "output_type": "display_data"
    }
   ],
   "source": [
    "#requires_job_training and case status\n",
    "stacked_barplot(data, \"requires_job_training\", \"case_status\")"
   ]
  },
  {
   "cell_type": "markdown",
   "id": "0453f281",
   "metadata": {},
   "source": [
    "- % visa certifications for requires_job_training is same "
   ]
  },
  {
   "cell_type": "code",
   "execution_count": 48,
   "id": "da901b50",
   "metadata": {},
   "outputs": [
    {
     "name": "stdout",
     "output_type": "stream",
     "text": [
      "case_status           Certified  Denied    All\n",
      "region_of_employment                          \n",
      "All                       17018    8462  25480\n",
      "Northeast                  4526    2669   7195\n",
      "West                       4100    2486   6586\n",
      "South                      4913    2104   7017\n",
      "Midwest                    3253    1054   4307\n",
      "Island                      226     149    375\n",
      "------------------------------------------------------------------------------------------------------------------------\n"
     ]
    },
    {
     "data": {
      "image/png": "[encoded data removed]",
      "text/plain": [
       "<Figure size 720x360 with 1 Axes>"
      ]
     },
     "metadata": {
      "needs_background": "light"
     },
     "output_type": "display_data"
    }
   ],
   "source": [
    "#region_of_employment and case status\n",
    "stacked_barplot(data, \"region_of_employment\", \"case_status\")"
   ]
  },
  {
   "cell_type": "markdown",
   "id": "e68f0614",
   "metadata": {},
   "source": [
    "- visa certifications for region_of_employment is higher in MidWest "
   ]
  },
  {
   "cell_type": "code",
   "execution_count": 49,
   "id": "60714090",
   "metadata": {},
   "outputs": [
    {
     "name": "stdout",
     "output_type": "stream",
     "text": [
      "case_status         Certified  Denied    All\n",
      "full_time_position                          \n",
      "All                     17018    8462  25480\n",
      "Y                       15163    7610  22773\n",
      "N                        1855     852   2707\n",
      "------------------------------------------------------------------------------------------------------------------------\n"
     ]
    },
    {
     "data": {
      "image/png": "[encoded data removed]",
      "text/plain": [
       "<Figure size 504x360 with 1 Axes>"
      ]
     },
     "metadata": {
      "needs_background": "light"
     },
     "output_type": "display_data"
    }
   ],
   "source": [
    "#full_time_position and case status\n",
    "stacked_barplot(data, \"full_time_position\", \"case_status\")"
   ]
  },
  {
   "cell_type": "markdown",
   "id": "be4246b2",
   "metadata": {},
   "source": [
    "- % visa certifications for full_time_position is same"
   ]
  },
  {
   "cell_type": "markdown",
   "id": "9ddf5ea5",
   "metadata": {},
   "source": [
    "## Questions"
   ]
  },
  {
   "cell_type": "markdown",
   "id": "673b433b",
   "metadata": {},
   "source": [
    "**1. Those with higher education may want to travel abroad for a well-paid job. Does education play a role in Visa certification?**\n",
    "\n",
    "\n"
   ]
  },
  {
   "cell_type": "code",
   "execution_count": 50,
   "id": "90c83bb1",
   "metadata": {},
   "outputs": [
    {
     "name": "stdout",
     "output_type": "stream",
     "text": [
      "case_status            Certified  Denied    All\n",
      "education_of_employee                          \n",
      "All                        17018    8462  25480\n",
      "Bachelor's                  6367    3867  10234\n",
      "High School                 1164    2256   3420\n",
      "Master's                    7575    2059   9634\n",
      "Doctorate                   1912     280   2192\n",
      "------------------------------------------------------------------------------------------------------------------------\n"
     ]
    },
    {
     "data": {
      "image/png": "[encoded data removed]",
      "text/plain": [
       "<Figure size 648x360 with 1 Axes>"
      ]
     },
     "metadata": {
      "needs_background": "light"
     },
     "output_type": "display_data"
    }
   ],
   "source": [
    "#education and case status\n",
    "stacked_barplot(data, \"education_of_employee\", \"case_status\")"
   ]
  },
  {
   "cell_type": "markdown",
   "id": "cf820833",
   "metadata": {},
   "source": [
    "- Yes, Education play a role in Visa certification.The trend says for visa certification education of employees with Doctorate has higher chance than Master's than Bachelor's than High School."
   ]
  },
  {
   "cell_type": "markdown",
   "id": "6d84f9f2",
   "metadata": {},
   "source": [
    "\n",
    " \n",
    "**2. How does the visa status vary across different continents?**"
   ]
  },
  {
   "cell_type": "code",
   "execution_count": 51,
   "id": "45ea90dc",
   "metadata": {},
   "outputs": [
    {
     "name": "stdout",
     "output_type": "stream",
     "text": [
      "case_status    Certified  Denied    All\n",
      "continent                              \n",
      "All                17018    8462  25480\n",
      "Asia               11012    5849  16861\n",
      "North America       2037    1255   3292\n",
      "Europe              2957     775   3732\n",
      "South America        493     359    852\n",
      "Africa               397     154    551\n",
      "Oceania              122      70    192\n",
      "------------------------------------------------------------------------------------------------------------------------\n"
     ]
    },
    {
     "data": {
      "image/png": "[encoded data removed]",
      "text/plain": [
       "<Figure size 792x360 with 1 Axes>"
      ]
     },
     "metadata": {
      "needs_background": "light"
     },
     "output_type": "display_data"
    }
   ],
   "source": [
    "#continent and case status\n",
    "stacked_barplot(data, \"continent\", \"case_status\")"
   ]
  },
  {
   "cell_type": "markdown",
   "id": "77805cc5",
   "metadata": {},
   "source": [
    "- Trend observed shows that visa status vary across different continents is Europe > Africa > Asia > Oceania > North America & South America.\n"
   ]
  },
  {
   "cell_type": "markdown",
   "id": "1662f48d",
   "metadata": {},
   "source": [
    "\n",
    " \n",
    "**3. Experienced professionals might look abroad for opportunities to improve their lifestyles and career development. Does work experience influence visa status?**"
   ]
  },
  {
   "cell_type": "code",
   "execution_count": 52,
   "id": "e1b07fb9",
   "metadata": {},
   "outputs": [
    {
     "name": "stdout",
     "output_type": "stream",
     "text": [
      "case_status         Certified  Denied    All\n",
      "has_job_experience                          \n",
      "All                     17018    8462  25480\n",
      "N                        5994    4684  10678\n",
      "Y                       11024    3778  14802\n",
      "------------------------------------------------------------------------------------------------------------------------\n"
     ]
    },
    {
     "data": {
      "image/png": "[encoded data removed]",
      "text/plain": [
       "<Figure size 504x360 with 1 Axes>"
      ]
     },
     "metadata": {
      "needs_background": "light"
     },
     "output_type": "display_data"
    }
   ],
   "source": [
    "#job_experience and case status\n",
    "stacked_barplot(data, \"has_job_experience\", \"case_status\")"
   ]
  },
  {
   "cell_type": "markdown",
   "id": "1e7cbd87",
   "metadata": {},
   "source": [
    "- Work experience has influence visa status."
   ]
  },
  {
   "cell_type": "markdown",
   "id": "12a3b39b",
   "metadata": {},
   "source": [
    " \n",
    " \n",
    "**4. In the United States, employees are paid at different intervals. Which pay unit is most likely to be certified for a visa?**\n",
    "\n"
   ]
  },
  {
   "cell_type": "code",
   "execution_count": 53,
   "id": "b34e9e06",
   "metadata": {},
   "outputs": [
    {
     "name": "stdout",
     "output_type": "stream",
     "text": [
      "case_status   Certified  Denied    All\n",
      "unit_of_wage                          \n",
      "All               17018    8462  25480\n",
      "Not_Hourly        16271    7052  23323\n",
      "Hourly              747    1410   2157\n",
      "------------------------------------------------------------------------------------------------------------------------\n"
     ]
    },
    {
     "data": {
      "image/png": "[encoded data removed]",
      "text/plain": [
       "<Figure size 504x360 with 1 Axes>"
      ]
     },
     "metadata": {
      "needs_background": "light"
     },
     "output_type": "display_data"
    }
   ],
   "source": [
    "stacked_barplot(data, \"unit_of_wage\", \"case_status\")"
   ]
  },
  {
   "cell_type": "markdown",
   "id": "68fa40b1",
   "metadata": {},
   "source": [
    "- When unit of wages is hourly, only 35% of the cases were certified.\n",
    "- 70% were certified when the unit_of_wage are not Hour-ly \n",
    "- This indicates that unit_of_wage is an important attribute that can influence case status."
   ]
  },
  {
   "cell_type": "markdown",
   "id": "fbc1f631",
   "metadata": {},
   "source": [
    " \n",
    " \n",
    "**5. The US government has established a prevailing wage to protect local talent and foreign workers. How does the visa status change with the prevailing wage?**\n",
    " \n"
   ]
  },
  {
   "cell_type": "code",
   "execution_count": 54,
   "id": "3d98a697",
   "metadata": {},
   "outputs": [
    {
     "data": {
      "image/png": "[encoded data removed]",
      "text/plain": [
       "<Figure size 1440x360 with 1 Axes>"
      ]
     },
     "metadata": {
      "needs_background": "light"
     },
     "output_type": "display_data"
    }
   ],
   "source": [
    "#prevailing_wage and case_status\n",
    "\n",
    "plt.figure(figsize=(20,5))\n",
    "sns.histplot(data, x=\"prevailing_wage\", hue=\"case_status\");"
   ]
  },
  {
   "cell_type": "markdown",
   "id": "b39324e8",
   "metadata": {},
   "source": [
    "- There are outliers on the higher end, highly skilled positions. \n"
   ]
  },
  {
   "cell_type": "markdown",
   "id": "2e1e4a07",
   "metadata": {},
   "source": [
    "## EDA observations"
   ]
  },
  {
   "cell_type": "markdown",
   "id": "eb0d4eed",
   "metadata": {},
   "source": [
    "#### \n",
    "\n",
    "- Number of employees in the employer's company is skewed right. \n",
    "- Year in which the employer's company was established is skewed left.\n",
    "- 90% of all entries are with unit of prevailing wage as yearly\n",
    "- 8.5% entries as hourly\n",
    "- 66.2% of employees are from Asia\n",
    "- Median and mean annual salary is approx. USD 70,000\n",
    "- 40% of employees have either a bachelor's\n",
    "- 38% has master's \n",
    "- 8% of applicants have a doctorate\n",
    "- 13% HAS high school diploma\n",
    "- 88% do not require job training\n",
    "- 58% had prior job experience\n",
    "- 88% are full time positions\n",
    "- 67% cases that are verified are approved and 33% cases are denied\n",
    "- 65% of cases in all categories are certified\n",
    "- 58% are small sized companies\n",
    "- 36% are medium_sized\n",
    "- 6% are larege sized companies\n",
    "- 50% of all cases are certified than denied for employers\n",
    "- 65% of cases in both categories are approved\n",
    "- 61% of employers were established after 1990\n",
    "- 39% of employers before 1990\n",
    "- 70% of cases are certified when the unit_of_wage is not hourly\n",
    "- 35% cases are certified when the unit_of_wage is hourly\n",
    "- More cases are certified than denied\n",
    "- % certification for continents is Europe is higher.\n",
    "- % visa certification for education of employees is Doctorate is highest.\n",
    "- % visa certifications for has_job_experience is yes more than no\n",
    "- visa certifications for region_of_employment is higher in MidWest\n",
    "- % visa certifications for full_time_position is same"
   ]
  },
  {
   "cell_type": "markdown",
   "id": "7a21fb13",
   "metadata": {},
   "source": [
    "### Data Preparation for modeling\n",
    "\n",
    "- We want to predict which visa will be certified.\n",
    "- Before we proceed to build a model, we'll have to encode categorical features.\n",
    "- We'll split the data into train and test to be able to evaluate the model that we build on the train data."
   ]
  },
  {
   "cell_type": "code",
   "execution_count": 55,
   "id": "ddb17090",
   "metadata": {},
   "outputs": [],
   "source": [
    "data[\"case_status\"] = data[\"case_status\"].apply(lambda x: 0 if x == \"Denied\" else 1)"
   ]
  },
  {
   "cell_type": "markdown",
   "id": "1d5e1559",
   "metadata": {},
   "source": [
    "## Split the dataset"
   ]
  },
  {
   "cell_type": "code",
   "execution_count": 56,
   "id": "20ba86ab",
   "metadata": {},
   "outputs": [],
   "source": [
    "#Separating features and the target column\n",
    "X = data.drop(\"case_status\", axis=1)\n",
    "y = data[\"case_status\"]\n",
    "X = pd.get_dummies(X, drop_first=True)\n"
   ]
  },
  {
   "cell_type": "code",
   "execution_count": 57,
   "id": "1f40c533",
   "metadata": {},
   "outputs": [],
   "source": [
    "#Splitting the data into train and test sets in 70:30 ratio\n",
    "X_train, X_test, y_train, y_test = train_test_split(X, y, test_size=0.30, random_state=1, stratify=y)"
   ]
  },
  {
   "cell_type": "code",
   "execution_count": 58,
   "id": "472c9d99",
   "metadata": {},
   "outputs": [
    {
     "name": "stdout",
     "output_type": "stream",
     "text": [
      "Shape of Training set :  (17836, 20)\n",
      "Shape of test set :  (7644, 20)\n",
      "Percentage of classes in training set:\n",
      "1    0.667919\n",
      "0    0.332081\n",
      "Name: case_status, dtype: float64\n",
      "Percentage of classes in test set:\n",
      "1    0.667844\n",
      "0    0.332156\n",
      "Name: case_status, dtype: float64\n"
     ]
    }
   ],
   "source": [
    "print(\"Shape of Training set : \", X_train.shape)\n",
    "print(\"Shape of test set : \", X_test.shape)\n",
    "print(\"Percentage of classes in training set:\")\n",
    "print(y_train.value_counts(normalize=True))\n",
    "print(\"Percentage of classes in test set:\")\n",
    "print(y_test.value_counts(normalize=True))"
   ]
  },
  {
   "cell_type": "markdown",
   "id": "d014108c",
   "metadata": {},
   "source": [
    "\n",
    "- We have 17,812 observations in the train set and 7,635  observations in the test set."
   ]
  },
  {
   "cell_type": "markdown",
   "id": "8101fe45",
   "metadata": {},
   "source": [
    "## Building Models"
   ]
  },
  {
   "cell_type": "markdown",
   "id": "e40d5a54",
   "metadata": {},
   "source": [
    "- We'll fit different models on the train data and observe their performance. \n",
    "- We'll try to improve that performance by tuning some hyperparameters available for that algorithm.\n",
    "- We'll use GridSearchCv for hyperparameter tuning and `r_2 score` to optimize the model.\n",
    "- R-square - `Coefficient of determination` is used to evaluate the performance of a regression model. It is the amount of the variation in the output dependent attribute which is predictable from the input independent variables.\n",
    "- Let's start by creating a function to get model scores, so that we don't have to use the same codes repeatedly."
   ]
  },
  {
   "cell_type": "markdown",
   "id": "classified-traveler",
   "metadata": {
    "id": "classified-traveler"
   },
   "source": [
    "#### First, let's create functions to calculate different metrics and confusion matrix so that we don't have to use the same code repeatedly for each model.\n",
    "* The model_performance_classification_sklearn function will be used to check the model performance of models. \n",
    "* The confusion_matrix_sklearn function will be used to plot the confusion matrix."
   ]
  },
  {
   "cell_type": "code",
   "execution_count": 59,
   "id": "519b960f",
   "metadata": {},
   "outputs": [],
   "source": [
    "# defining a function to compute different metrics to check performance of a classification model built using sklearn\n",
    "\n",
    "\n",
    "def model_performance_classification_sklearn(model, predictors, target):\n",
    "    \"\"\"\n",
    "    Function to compute different metrics to check classification model performance\n",
    "\n",
    "    model: classifier\n",
    "    predictors: independent variables\n",
    "    target: dependent variable\n",
    "    \"\"\"\n",
    "\n",
    "    # predicting using the independent variables\n",
    "    pred = model.predict(predictors)\n",
    "\n",
    "    acc = accuracy_score(target, pred)  # to compute Accuracy\n",
    "    recall = recall_score(target, pred)  # to compute Recall\n",
    "    precision = precision_score(target, pred)  # to compute Precision\n",
    "    f1 = f1_score(target, pred)  # to compute F1-score\n",
    "\n",
    "    # creating a dataframe of metrics\n",
    "    df_perf = pd.DataFrame(\n",
    "        {\"Accuracy\": acc, \"Recall\": recall, \"Precision\": precision, \"F1\": f1,},\n",
    "        index=[0],\n",
    "    )\n",
    "\n",
    "    return df_perf"
   ]
  },
  {
   "cell_type": "code",
   "execution_count": 60,
   "id": "mechanical-interference",
   "metadata": {
    "id": "mechanical-interference"
   },
   "outputs": [],
   "source": [
    "def confusion_matrix_sklearn(model, predictors, target):\n",
    "    \"\"\"\n",
    "    To plot the confusion_matrix with percentages\n",
    "\n",
    "    model: classifier\n",
    "    predictors: independent variables\n",
    "    target: dependent variable\n",
    "    \"\"\"\n",
    "    y_pred = model.predict(predictors)\n",
    "    cm = confusion_matrix(target, y_pred)\n",
    "    labels = np.asarray(\n",
    "        [\n",
    "            [\"{0:0.0f}\".format(item) + \"\\n{0:.2%}\".format(item / cm.flatten().sum())]\n",
    "            for item in cm.flatten()\n",
    "        ]\n",
    "    ).reshape(2, 2)\n",
    "\n",
    "    plt.figure(figsize=(6, 4))\n",
    "    sns.heatmap(cm, annot=labels, fmt=\"\")\n",
    "    plt.ylabel(\"True label\")\n",
    "    plt.xlabel(\"Predicted label\")"
   ]
  },
  {
   "cell_type": "markdown",
   "id": "b4d4a3a1",
   "metadata": {},
   "source": [
    "## Decision Tree Model"
   ]
  },
  {
   "cell_type": "code",
   "execution_count": 61,
   "id": "c0b64b52",
   "metadata": {
    "id": "alleged-spirituality"
   },
   "outputs": [
    {
     "data": {
      "text/plain": [
       "DecisionTreeClassifier(random_state=1)"
      ]
     },
     "execution_count": 61,
     "metadata": {},
     "output_type": "execute_result"
    }
   ],
   "source": [
    "#Fitting the model\n",
    "d_tree = DecisionTreeClassifier(random_state=1)\n",
    "d_tree.fit(X_train,y_train)"
   ]
  },
  {
   "cell_type": "code",
   "execution_count": 62,
   "id": "18d5cefb",
   "metadata": {},
   "outputs": [
    {
     "name": "stdout",
     "output_type": "stream",
     "text": [
      "Training performance:\n",
      "    Accuracy  Recall  Precision   F1\n",
      "0       1.0     1.0        1.0  1.0\n",
      "Testing performance:\n",
      "    Accuracy    Recall  Precision        F1\n",
      "0  0.650314  0.729285   0.742521  0.735843\n"
     ]
    }
   ],
   "source": [
    "#Calculating different metrics\n",
    "d_tree_model_train_perf=model_performance_classification_sklearn(d_tree,X_train,y_train)\n",
    "print(\"Training performance:\\n\",d_tree_model_train_perf)\n",
    "d_tree_model_test_perf=model_performance_classification_sklearn(d_tree,X_test,y_test)\n",
    "print(\"Testing performance:\\n\",d_tree_model_test_perf)"
   ]
  },
  {
   "cell_type": "markdown",
   "id": "f64ac94e",
   "metadata": {},
   "source": [
    "- The decision tree is overfitting the training data. \n",
    "- Training values are high but the testing metrics are not\n",
    "- F1_score for the test set is only 0.73.\n",
    "- We can improve model performance by hyperparameter tuning"
   ]
  },
  {
   "cell_type": "code",
   "execution_count": 63,
   "id": "69476ae6",
   "metadata": {},
   "outputs": [
    {
     "data": {
      "image/png": "[encoded data removed]",
      "text/plain": [
       "<Figure size 432x288 with 2 Axes>"
      ]
     },
     "metadata": {
      "needs_background": "light"
     },
     "output_type": "display_data"
    }
   ],
   "source": [
    "#Creating confusion matrix\n",
    "confusion_matrix_sklearn(d_tree,X_test,y_test)"
   ]
  },
  {
   "cell_type": "markdown",
   "id": "6283e1f9",
   "metadata": {},
   "source": [
    "### Hyperparameter Tuning - Decision Tree"
   ]
  },
  {
   "cell_type": "code",
   "execution_count": 64,
   "id": "c97c1d59",
   "metadata": {},
   "outputs": [
    {
     "data": {
      "text/plain": [
       "DecisionTreeClassifier(class_weight={0: 0.668, 1: 0.332}, max_depth=2,\n",
       "                       max_leaf_nodes=2, min_impurity_decrease=0.0001,\n",
       "                       random_state=1)"
      ]
     },
     "execution_count": 64,
     "metadata": {},
     "output_type": "execute_result"
    }
   ],
   "source": [
    "#Choose the type of classifier. \n",
    "dtree_estimator = DecisionTreeClassifier(class_weight={0:0.668,1:0.332},random_state=1)\n",
    "\n",
    "# Grid of parameters to choose from\n",
    "parameters = {'max_depth': np.arange(2,30), \n",
    "              'min_samples_leaf': [1, 2, 5, 7, 10],\n",
    "              'max_leaf_nodes' : [2, 3, 5, 10,15],\n",
    "              'min_impurity_decrease': [0.0001,0.001,0.01,0.1]\n",
    "             }\n",
    "\n",
    "# Type of scoring used to compare parameter combinations\n",
    "scorer = metrics.make_scorer(metrics.f1_score)\n",
    "\n",
    "# Run the grid search\n",
    "grid_obj = GridSearchCV(dtree_estimator, parameters, scoring=scorer,n_jobs=-1)\n",
    "grid_obj = grid_obj.fit(X_train, y_train)\n",
    "\n",
    "# Set the clf to the best combination of parameters\n",
    "dtree_estimator = grid_obj.best_estimator_\n",
    "\n",
    "# Fit the best algorithm to the data. \n",
    "dtree_estimator.fit(X_train, y_train)"
   ]
  },
  {
   "cell_type": "code",
   "execution_count": 65,
   "id": "9040a9f6",
   "metadata": {},
   "outputs": [
    {
     "name": "stdout",
     "output_type": "stream",
     "text": [
      "Training performance:\n",
      "    Accuracy    Recall  Precision        F1\n",
      "0  0.712548  0.931923   0.720067  0.812411\n",
      "Testing performance:\n",
      "    Accuracy    Recall  Precision        F1\n",
      "0  0.706567  0.930852   0.715447  0.809058\n"
     ]
    },
    {
     "data": {
      "image/png": "[encoded data removed]",
      "text/plain": [
       "<Figure size 432x288 with 2 Axes>"
      ]
     },
     "metadata": {
      "needs_background": "light"
     },
     "output_type": "display_data"
    }
   ],
   "source": [
    "## Code to check performance for train data on tuned estimator\n",
    "## Code to check performance for test data on tuned estimator\n",
    "\n",
    "dtree_estimator_model_train_perf=model_performance_classification_sklearn(dtree_estimator,X_train,y_train)\n",
    "print(\"Training performance:\\n\",dtree_estimator_model_train_perf)\n",
    "dtree_estimator_model_test_perf=model_performance_classification_sklearn(dtree_estimator,X_test,y_test)\n",
    "print(\"Testing performance:\\n\",dtree_estimator_model_test_perf)\n",
    "\n",
    "#Creating confusion matrix\n",
    "confusion_matrix_sklearn(dtree_estimator,X_test,y_test)"
   ]
  },
  {
   "cell_type": "markdown",
   "id": "439803a6",
   "metadata": {},
   "source": [
    "- The hyperparameter tuned decision tree is not overfiting the dataset\n",
    "- F1 score has improved\n",
    "- F1 score for both the train and test datasets are 0.812 & 0.809 respectively"
   ]
  },
  {
   "cell_type": "markdown",
   "id": "98736e5a",
   "metadata": {},
   "source": [
    "# Building bagging and boosting models¶"
   ]
  },
  {
   "cell_type": "markdown",
   "id": "8c2b520c",
   "metadata": {
    "id": "increasing-louisiana"
   },
   "source": [
    "### Bagging Classifier"
   ]
  },
  {
   "cell_type": "code",
   "execution_count": 92,
   "id": "a8d9cd89",
   "metadata": {},
   "outputs": [
    {
     "name": "stdout",
     "output_type": "stream",
     "text": [
      "Training performance:\n",
      "    Accuracy    Recall  Precision        F1\n",
      "0  0.979255  0.980106   0.988737  0.984403\n",
      "Testing performance:\n",
      "    Accuracy    Recall  Precision        F1\n",
      "0  0.681973  0.757297   0.764334  0.760799\n"
     ]
    },
    {
     "data": {
      "image/png": "[encoded data removed]",
      "text/plain": [
       "<Figure size 432x288 with 2 Axes>"
      ]
     },
     "metadata": {
      "needs_background": "light"
     },
     "output_type": "display_data"
    }
   ],
   "source": [
    "#Code to define bagging classifier with random state = 1\n",
    "bagging_classifier = BaggingClassifier(random_state=1)\n",
    "#Code to fit bagging classifier on the train data\n",
    "bagging_classifier.fit(X_train,y_train)\n",
    "\n",
    "#Calculating different metrics\n",
    "bagging_classifier_model_train_perf=model_performance_classification_sklearn(bagging_classifier,X_train,y_train)\n",
    "print(\"Training performance:\\n\", bagging_classifier_model_train_perf)\n",
    "bagging_classifier_model_test_perf=model_performance_classification_sklearn(bagging_classifier,X_test,y_test)\n",
    "print(\"Testing performance:\\n\", bagging_classifier_model_test_perf)\n",
    "\n",
    "#Creating confusion matrix\n",
    "confusion_matrix_sklearn(bagging_classifier,X_test,y_test)"
   ]
  },
  {
   "cell_type": "markdown",
   "id": "b7c61421",
   "metadata": {},
   "source": [
    "- Bagging classifier is overfiting the training data"
   ]
  },
  {
   "cell_type": "markdown",
   "id": "7c68dde7",
   "metadata": {},
   "source": [
    "### Hyperparameter Tuning - Bagging Classifier"
   ]
  },
  {
   "cell_type": "code",
   "execution_count": 86,
   "id": "9d43a425",
   "metadata": {},
   "outputs": [
    {
     "data": {
      "text/plain": [
       "BaggingClassifier(max_features=0.7, max_samples=0.7, n_estimators=50,\n",
       "                  random_state=1)"
      ]
     },
     "execution_count": 86,
     "metadata": {},
     "output_type": "execute_result"
    }
   ],
   "source": [
    "# Choose the type of classifier. \n",
    "bagging_estimator_tuned = BaggingClassifier(random_state=1)\n",
    "\n",
    "# Grid of parameters to choose from\n",
    "parameters = {'max_samples': [0.7,0.8,0.9,1], \n",
    "              'max_features': [0.7,0.8,0.9,1],\n",
    "              'n_estimators' : [10,20,30,40,50],\n",
    "             }\n",
    "\n",
    "# Type of scoring used to compare parameter combinations\n",
    "scorer = metrics.make_scorer(metrics.f1_score)\n",
    "\n",
    "# Run the grid search\n",
    "grid_obj = GridSearchCV(bagging_estimator_tuned, parameters, scoring=scorer,cv=5)\n",
    "grid_obj = grid_obj.fit(X_train, y_train)\n",
    "\n",
    "# Set the clf to the best combination of parameters\n",
    "bagging_estimator_tuned = grid_obj.best_estimator_\n",
    "\n",
    "# Fit the best algorithm to the data.\n",
    "bagging_estimator_tuned.fit(X_train, y_train)"
   ]
  },
  {
   "cell_type": "code",
   "execution_count": 90,
   "id": "f88a5ab9",
   "metadata": {},
   "outputs": [
    {
     "name": "stdout",
     "output_type": "stream",
     "text": [
      "Training performance:\n",
      "    Accuracy    Recall  Precision        F1\n",
      "0  0.955427  0.993704   0.942666  0.967513\n",
      "Testing performance:\n",
      "    Accuracy    Recall  Precision        F1\n",
      "0  0.725929  0.879922   0.751925  0.810904\n"
     ]
    },
    {
     "data": {
      "image/png": "[encoded data removed]",
      "text/plain": [
       "<Figure size 432x288 with 2 Axes>"
      ]
     },
     "metadata": {
      "needs_background": "light"
     },
     "output_type": "display_data"
    }
   ],
   "source": [
    "#Calculating different metrics\n",
    "bagging_estimator_tuned_model_train_perf=model_performance_classification_sklearn(bagging_estimator_tuned,X_train,y_train)\n",
    "print(\"Training performance:\\n\", bagging_estimator_tuned_model_train_perf)\n",
    "bagging_estimator_tuned_model_test_perf=model_performance_classification_sklearn(bagging_estimator_tuned,X_test,y_test)\n",
    "print(\"Testing performance:\\n\", bagging_estimator_tuned_model_test_perf)\n",
    "\n",
    "#Creating confusion matrix\n",
    "confusion_matrix_sklearn(bagging_estimator_tuned,X_test,y_test)"
   ]
  },
  {
   "cell_type": "markdown",
   "id": "520ac09f",
   "metadata": {},
   "source": [
    "- Training metrics are high\n",
    "- Testing metrics are not\n",
    "- Model is still overfit."
   ]
  },
  {
   "cell_type": "markdown",
   "id": "a788158d",
   "metadata": {},
   "source": [
    "### Random Forest"
   ]
  },
  {
   "cell_type": "code",
   "execution_count": 69,
   "id": "d9694e7b",
   "metadata": {},
   "outputs": [
    {
     "name": "stdout",
     "output_type": "stream",
     "text": [
      "Training performance:\n",
      "    Accuracy    Recall  Precision        F1\n",
      "0  0.999888  0.999916   0.999916  0.999916\n",
      "Testing performance:\n",
      "    Accuracy    Recall  Precision        F1\n",
      "0  0.677525  0.769442   0.753067  0.761167\n"
     ]
    },
    {
     "data": {
      "image/png": "[encoded data removed]",
      "text/plain": [
       "<Figure size 432x288 with 2 Axes>"
      ]
     },
     "metadata": {
      "needs_background": "light"
     },
     "output_type": "display_data"
    }
   ],
   "source": [
    "#Code to define random forest with random state = 1 \n",
    "rf_estimator = RandomForestClassifier(random_state=1)\n",
    "#Code to fit random forest on the train data\n",
    "rf_estimator.fit(X_train,y_train)\n",
    "\n",
    "#Calculating different metrics\n",
    "rf_estimator_model_train_perf=model_performance_classification_sklearn(rf_estimator,X_train,y_train)\n",
    "print(\"Training performance:\\n\",rf_estimator_model_train_perf)\n",
    "rf_estimator_model_test_perf=model_performance_classification_sklearn(rf_estimator,X_test,y_test)\n",
    "print(\"Testing performance:\\n\",rf_estimator_model_test_perf)\n",
    "\n",
    "#Creating confusion matrix\n",
    "confusion_matrix_sklearn(rf_estimator,X_test,y_test)"
   ]
  },
  {
   "cell_type": "markdown",
   "id": "e4c9e49f",
   "metadata": {},
   "source": [
    "- Overfitting the training data"
   ]
  },
  {
   "cell_type": "markdown",
   "id": "ff23d26e",
   "metadata": {},
   "source": [
    "# Tuning the hyperparameters improve the model performance"
   ]
  },
  {
   "cell_type": "markdown",
   "id": "f1042836",
   "metadata": {},
   "source": [
    "### Hyperparameter Tuning - Random Forest"
   ]
  },
  {
   "cell_type": "code",
   "execution_count": 70,
   "id": "c17e905d",
   "metadata": {},
   "outputs": [
    {
     "data": {
      "text/plain": [
       "RandomForestClassifier(class_weight={0: 0.668, 1: 0.332}, max_depth=10,\n",
       "                       max_features='sqrt', min_samples_leaf=5,\n",
       "                       min_samples_split=5, oob_score=True, random_state=1)"
      ]
     },
     "execution_count": 70,
     "metadata": {},
     "output_type": "execute_result"
    }
   ],
   "source": [
    "# Choose the type of classifier. \n",
    "rf_tuned = RandomForestClassifier(class_weight={0:0.668,1:0.332},random_state=1,oob_score=True,bootstrap=True)\n",
    "\n",
    "parameters = {  \n",
    "                'max_depth': list(np.arange(10,30,10)) + [None],\n",
    "                'max_features': ['sqrt',None],\n",
    "                'min_samples_leaf': np.arange(5,15,5),\n",
    "                'min_samples_split': np.arange(5, 20, 5),\n",
    "                'n_estimators': np.arange(20,120,40)}\n",
    "\n",
    "\n",
    "# Type of scoring used to compare parameter combinations\n",
    "scorer = metrics.make_scorer(metrics.f1_score)\n",
    "\n",
    "# Run the grid search\n",
    "grid_obj = GridSearchCV(rf_tuned, parameters, scoring=scorer, cv=3,n_jobs=-1)\n",
    "grid_obj = grid_obj.fit(X_train, y_train)\n",
    "\n",
    "# Set the clf to the best combination of parameters\n",
    "rf_tuned = grid_obj.best_estimator_\n",
    "\n",
    "# Fit the best algorithm to the data. \n",
    "rf_tuned.fit(X_train, y_train)"
   ]
  },
  {
   "cell_type": "code",
   "execution_count": 71,
   "id": "75a205df",
   "metadata": {},
   "outputs": [
    {
     "name": "stdout",
     "output_type": "stream",
     "text": [
      "Training performance:\n",
      "    Accuracy    Recall  Precision        F1\n",
      "0  0.748206  0.780072   0.832408  0.805391\n",
      "Testing performance:\n",
      "    Accuracy    Recall  Precision        F1\n",
      "0  0.719257  0.759647   0.808422  0.783276\n"
     ]
    },
    {
     "data": {
      "image/png": "[encoded data removed]",
      "text/plain": [
       "<Figure size 432x288 with 2 Axes>"
      ]
     },
     "metadata": {
      "needs_background": "light"
     },
     "output_type": "display_data"
    }
   ],
   "source": [
    "#Code to check performance for train data on tuned estimator\n",
    "rf_tuned_model_train_perf=model_performance_classification_sklearn(rf_tuned,X_train,y_train)\n",
    "print(\"Training performance:\\n\",rf_tuned_model_train_perf)\n",
    "#Code to check performance for test data on tuned estimator\n",
    "rf_tuned_model_test_perf=model_performance_classification_sklearn(rf_tuned,X_test,y_test)\n",
    "print(\"Testing performance:\\n\",rf_tuned_model_test_perf)\n",
    "\n",
    "#Creating confusion matrix\n",
    "confusion_matrix_sklearn(rf_tuned,X_test,y_test)\n"
   ]
  },
  {
   "cell_type": "markdown",
   "id": "0c28858c",
   "metadata": {},
   "source": [
    "- Tuning the hyperparameters has decreased the overfit and increased F1 score\n",
    "- But model is not performing as optimally as the hyperparameter tuned decision tree"
   ]
  },
  {
   "cell_type": "markdown",
   "id": "b45b0964",
   "metadata": {},
   "source": [
    "### AdaBoost Classifier"
   ]
  },
  {
   "cell_type": "code",
   "execution_count": 72,
   "id": "77b367f5",
   "metadata": {},
   "outputs": [
    {
     "name": "stdout",
     "output_type": "stream",
     "text": [
      "Training performance:\n",
      "    Accuracy    Recall  Precision        F1\n",
      "0  0.738619  0.886007   0.761599  0.819106\n",
      "Testing performance:\n",
      "    Accuracy    Recall  Precision        F1\n",
      "0   0.73561  0.885994   0.758638  0.817385\n"
     ]
    },
    {
     "data": {
      "image/png": "[encoded data removed]",
      "text/plain": [
       "<Figure size 432x288 with 2 Axes>"
      ]
     },
     "metadata": {
      "needs_background": "light"
     },
     "output_type": "display_data"
    }
   ],
   "source": [
    "#Code to define AdaBoost Classifier with random state = 1\n",
    "ab_classifier = AdaBoostClassifier(random_state=1)\n",
    "#Code to fit AdaBoost Classifier on the train data\n",
    "ab_classifier.fit(X_train,y_train)\n",
    "\n",
    "#Code to check performance on train data\n",
    "ab_classifier_model_train_perf=model_performance_classification_sklearn(ab_classifier,X_train,y_train)\n",
    "print(\"Training performance:\\n\", ab_classifier_model_train_perf)\n",
    "#Code to check performance on test data\n",
    "ab_classifier_model_test_perf=model_performance_classification_sklearn(ab_classifier,X_test,y_test)\n",
    "print(\"Testing performance:\\n\", ab_classifier_model_test_perf)\n",
    "\n",
    "#Creating confusion matrix\n",
    "confusion_matrix_sklearn(ab_classifier,X_test,y_test)"
   ]
  },
  {
   "cell_type": "markdown",
   "id": "d9acb954",
   "metadata": {},
   "source": [
    "### Hyperparameter Tuning - AdaBoost Classifier"
   ]
  },
  {
   "cell_type": "code",
   "execution_count": 73,
   "id": "0bd9b770",
   "metadata": {},
   "outputs": [
    {
     "data": {
      "text/plain": [
       "AdaBoostClassifier(base_estimator=DecisionTreeClassifier(max_depth=2),\n",
       "                   learning_rate=0.2, n_estimators=60, random_state=1)"
      ]
     },
     "execution_count": 73,
     "metadata": {},
     "output_type": "execute_result"
    }
   ],
   "source": [
    "# Choose the type of classifier. \n",
    "abc_tuned = AdaBoostClassifier(random_state=1)\n",
    "\n",
    "# Grid of parameters to choose from\n",
    "parameters = {\n",
    "    #Let's try different max_depth for base_estimator\n",
    "    \"base_estimator\":[DecisionTreeClassifier(max_depth=1),\n",
    "                      DecisionTreeClassifier(max_depth=2)],\n",
    "    \"n_estimators\": np.arange(20,120,40),\n",
    "    \"learning_rate\":np.arange(0.2,2,0.6)\n",
    "}\n",
    "\n",
    "# Type of scoring used to compare parameter  combinations\n",
    "scorer = metrics.make_scorer(metrics.f1_score)\n",
    "\n",
    "# Run the grid search\n",
    "grid_obj = GridSearchCV(abc_tuned, parameters, scoring=scorer,cv=3)\n",
    "grid_obj = grid_obj.fit(X_train, y_train)\n",
    "\n",
    "# Set the clf to the best combination of parameters\n",
    "abc_tuned = grid_obj.best_estimator_\n",
    "\n",
    "# Fit the best algorithm to the data.\n",
    "abc_tuned.fit(X_train, y_train)"
   ]
  },
  {
   "cell_type": "code",
   "execution_count": 74,
   "id": "27ca2ee2",
   "metadata": {},
   "outputs": [
    {
     "name": "stdout",
     "output_type": "stream",
     "text": [
      "Training performance:\n",
      "    Accuracy   Recall  Precision        F1\n",
      "0  0.749832  0.87266   0.779252  0.823315\n",
      "Testing performance:\n",
      "    Accuracy   Recall  Precision        F1\n",
      "0  0.744244  0.87189   0.773818  0.819932\n"
     ]
    },
    {
     "data": {
      "image/png": "[encoded data removed]",
      "text/plain": [
       "<Figure size 432x288 with 2 Axes>"
      ]
     },
     "metadata": {
      "needs_background": "light"
     },
     "output_type": "display_data"
    }
   ],
   "source": [
    "#Checking model performance on training set\n",
    "abc_tuned_model_train_perf=model_performance_classification_sklearn(abc_tuned,X_train,y_train)\n",
    "print(\"Training performance:\\n\", abc_tuned_model_train_perf)\n",
    "#Checking model performance on test set\n",
    "abc_tuned_model_test_perf=model_performance_classification_sklearn(abc_tuned,X_test,y_test)\n",
    "print(\"Testing performance:\\n\", abc_tuned_model_test_perf)\n",
    "\n",
    "#Creating confusion matrix\n",
    "confusion_matrix_sklearn(abc_tuned,X_test,y_test)"
   ]
  },
  {
   "cell_type": "markdown",
   "id": "e0b9164f",
   "metadata": {},
   "source": [
    "- AdaBoost classifier is not overfitting the training data.\n",
    "- F1 score 0.823 & 0.819 on the training & testing data"
   ]
  },
  {
   "cell_type": "markdown",
   "id": "ec1370c6",
   "metadata": {},
   "source": [
    "### Gradient Boosting Classifier"
   ]
  },
  {
   "cell_type": "code",
   "execution_count": 75,
   "id": "a212db2e",
   "metadata": {},
   "outputs": [
    {
     "name": "stdout",
     "output_type": "stream",
     "text": [
      "Training performance:\n",
      "    Accuracy    Recall  Precision        F1\n",
      "0  0.755551  0.878284   0.782397  0.827573\n",
      "Testing performance:\n",
      "    Accuracy  Recall  Precision        F1\n",
      "0  0.747122  0.8762    0.77468  0.822318\n"
     ]
    },
    {
     "data": {
      "image/png": "[encoded data removed]",
      "text/plain": [
       "<Figure size 432x288 with 2 Axes>"
      ]
     },
     "metadata": {
      "needs_background": "light"
     },
     "output_type": "display_data"
    }
   ],
   "source": [
    "#Fitting the model\n",
    "gb_classifier = GradientBoostingClassifier(random_state=1)\n",
    "gb_classifier.fit(X_train,y_train)\n",
    "\n",
    "#Code to create confusion matrix for train data\n",
    "gb_classifier_model_train_perf=model_performance_classification_sklearn(gb_classifier,X_train,y_train)\n",
    "print(\"Training performance:\\n\",gb_classifier_model_train_perf)\n",
    "#Code to create confusion matrix for test data\n",
    "gb_classifier_model_test_perf=model_performance_classification_sklearn(gb_classifier,X_test,y_test)\n",
    "print(\"Testing performance:\\n\",gb_classifier_model_test_perf)\n",
    "\n",
    "#Creating confusion matrix\n",
    "confusion_matrix_sklearn(gb_classifier,X_test,y_test)"
   ]
  },
  {
   "cell_type": "markdown",
   "id": "e1f63e43",
   "metadata": {},
   "source": [
    "- Very high F1 scores of 0.827 and 0.822 respectively"
   ]
  },
  {
   "cell_type": "markdown",
   "id": "a1d06e89",
   "metadata": {},
   "source": [
    "### Hyperparameter Tuning - Gradient Boosting Classifier"
   ]
  },
  {
   "cell_type": "code",
   "execution_count": 76,
   "id": "31c93bbb",
   "metadata": {},
   "outputs": [
    {
     "data": {
      "text/plain": [
       "GradientBoostingClassifier(init=AdaBoostClassifier(random_state=1),\n",
       "                           max_features=0.9, n_estimators=175, random_state=1,\n",
       "                           subsample=1)"
      ]
     },
     "execution_count": 76,
     "metadata": {},
     "output_type": "execute_result"
    }
   ],
   "source": [
    "# Choose the type of classifier. \n",
    "gbc_tuned = GradientBoostingClassifier(init=AdaBoostClassifier(random_state=1),random_state=1)\n",
    "\n",
    "# Grid of parameters to choose from\n",
    "parameters = {\n",
    "    \"n_estimators\": [100,175,250],\n",
    "    \"subsample\":[0.8,1],\n",
    "    \"max_features\":[0.8,0.9,1]\n",
    "}\n",
    "\n",
    "# Type of scoring used to compare parameter combinations\n",
    "scorer = metrics.make_scorer(metrics.f1_score)\n",
    "\n",
    "# Run the grid search\n",
    "grid_obj = GridSearchCV(gbc_tuned, parameters, scoring=scorer,cv=3)\n",
    "grid_obj = grid_obj.fit(X_train, y_train)\n",
    "\n",
    "# Set the clf to the best combination of parameters\n",
    "gbc_tuned = grid_obj.best_estimator_\n",
    "\n",
    "# Fit the best algorithm to the data.\n",
    "gbc_tuned.fit(X_train, y_train)"
   ]
  },
  {
   "cell_type": "code",
   "execution_count": 77,
   "id": "7d14ddf7",
   "metadata": {},
   "outputs": [
    {
     "name": "stdout",
     "output_type": "stream",
     "text": [
      "Training performance:\n",
      "    Accuracy    Recall  Precision        F1\n",
      "0  0.760316  0.879795   0.786626  0.830606\n",
      "Testing performance:\n",
      "    Accuracy    Recall  Precision        F1\n",
      "0  0.746337  0.872674   0.775592  0.821274\n"
     ]
    },
    {
     "data": {
      "image/png": "[encoded data removed]",
      "text/plain": [
       "<Figure size 432x288 with 2 Axes>"
      ]
     },
     "metadata": {
      "needs_background": "light"
     },
     "output_type": "display_data"
    }
   ],
   "source": [
    "#Code to check performance for train data on tuned estimator\n",
    "gbc_tuned_model_train_perf=model_performance_classification_sklearn(gbc_tuned,X_train,y_train)\n",
    "print(\"Training performance:\\n\",gbc_tuned_model_train_perf)\n",
    "#Code to check performance for test data on tuned estimator\n",
    "gbc_tuned_model_test_perf=model_performance_classification_sklearn(gbc_tuned,X_test,y_test)\n",
    "print(\"Testing performance:\\n\",gbc_tuned_model_test_perf)\n",
    "\n",
    "#Creating confusion matrix\n",
    "confusion_matrix_sklearn(gbc_tuned,X_test,y_test)"
   ]
  },
  {
   "cell_type": "markdown",
   "id": "073b4168",
   "metadata": {},
   "source": [
    "- There is not much difference in the model performance after hyperparameter tuning"
   ]
  },
  {
   "cell_type": "markdown",
   "id": "4e4cb790",
   "metadata": {},
   "source": [
    "### XGBoost Classifier"
   ]
  },
  {
   "cell_type": "code",
   "execution_count": 78,
   "id": "35ed2f94",
   "metadata": {},
   "outputs": [
    {
     "name": "stdout",
     "output_type": "stream",
     "text": [
      "Training performance:\n",
      "    Accuracy  Recall  Precision        F1\n",
      "0  0.810944  0.9127     0.8234  0.865754\n",
      "Testing performance:\n",
      "    Accuracy    Recall  Precision       F1\n",
      "0  0.736656  0.863467   0.770091  0.81411\n"
     ]
    },
    {
     "data": {
      "image/png": "[encoded data removed]",
      "text/plain": [
       "<Figure size 432x288 with 2 Axes>"
      ]
     },
     "metadata": {
      "needs_background": "light"
     },
     "output_type": "display_data"
    }
   ],
   "source": [
    "#Fitting the model\n",
    "xgb_classifier = XGBClassifier(random_state=1, eval_metric='logloss')\n",
    "xgb_classifier.fit(X_train,y_train)\n",
    "\n",
    "#Code to check performance for train data\n",
    "xgb_classifier_model_train_perf=model_performance_classification_sklearn(xgb_classifier,X_train,y_train)\n",
    "print(\"Training performance:\\n\",xgb_classifier_model_train_perf)\n",
    "#Code to check performance for test data\n",
    "xgb_classifier_model_test_perf=model_performance_classification_sklearn(xgb_classifier,X_test,y_test)\n",
    "print(\"Testing performance:\\n\",xgb_classifier_model_test_perf)\n",
    "\n",
    "#Creating confusion matrix\n",
    "confusion_matrix_sklearn(xgb_classifier,X_test,y_test)"
   ]
  },
  {
   "cell_type": "markdown",
   "id": "edf3f2be",
   "metadata": {},
   "source": [
    "- XGBoosing is slightly overfitting"
   ]
  },
  {
   "cell_type": "markdown",
   "id": "0ff07ab0",
   "metadata": {},
   "source": [
    "### Hyperparameter Tuning - XGBoost Classifier"
   ]
  },
  {
   "cell_type": "code",
   "execution_count": 93,
   "id": "17109af9",
   "metadata": {},
   "outputs": [
    {
     "data": {
      "text/plain": [
       "XGBClassifier(base_score=0.5, booster='gbtree', colsample_bylevel=0.5,\n",
       "              colsample_bynode=1, colsample_bytree=1, eval_metric='logloss',\n",
       "              gamma=0, gpu_id=-1, importance_type='gain',\n",
       "              interaction_constraints='', learning_rate=0.2, max_delta_step=0,\n",
       "              max_depth=6, min_child_weight=1, missing=nan,\n",
       "              monotone_constraints='()', n_estimators=10, n_jobs=0,\n",
       "              num_parallel_tree=1, random_state=1, reg_alpha=0, reg_lambda=1,\n",
       "              scale_pos_weight=1, subsample=0.7, tree_method='exact',\n",
       "              validate_parameters=1, verbosity=None)"
      ]
     },
     "execution_count": 93,
     "metadata": {},
     "output_type": "execute_result"
    }
   ],
   "source": [
    "# Choose the type of classifier. \n",
    "xgb_tuned = XGBClassifier(random_state=1, eval_metric='logloss')\n",
    "\n",
    "# Grid of parameters to choose from\n",
    "parameters = {\n",
    "    \"n_estimators\": [10,30,50],\n",
    "    \"scale_pos_weight\":[1,2,5],\n",
    "    \"subsample\":[0.7,0.9,1],\n",
    "    \"learning_rate\":[0.05, 0.1,0.2],\n",
    "    \"colsample_bytree\":[0.7,0.9,1],\n",
    "    \"colsample_bylevel\":[0.5,0.7,1]\n",
    "}\n",
    "\n",
    "# Type of scoring used to compare parameter combinations\n",
    "scorer = metrics.make_scorer(metrics.f1_score)\n",
    "\n",
    "# Run the grid search\n",
    "grid_obj = GridSearchCV(xgb_tuned, parameters,scoring=scorer,cv=3)\n",
    "grid_obj = grid_obj.fit(X_train, y_train)\n",
    "\n",
    "# Set the clf to the best combination of parameters\n",
    "xgb_tuned = grid_obj.best_estimator_\n",
    "\n",
    "# Fit the best algorithm to the data.\n",
    "xgb_tuned.fit(X_train, y_train)"
   ]
  },
  {
   "cell_type": "code",
   "execution_count": 94,
   "id": "73d91a2b",
   "metadata": {},
   "outputs": [
    {
     "name": "stdout",
     "output_type": "stream",
     "text": [
      "Training performance:\n",
      "    Accuracy    Recall  Precision        F1\n",
      "0  0.757401  0.874003   0.786524  0.827959\n",
      "Testing performance:\n",
      "    Accuracy    Recall  Precision        F1\n",
      "0  0.746599  0.871107   0.776633  0.821161\n"
     ]
    },
    {
     "data": {
      "image/png": "[encoded data removed]",
      "text/plain": [
       "<Figure size 432x288 with 2 Axes>"
      ]
     },
     "metadata": {
      "needs_background": "light"
     },
     "output_type": "display_data"
    }
   ],
   "source": [
    "#Code to check performance for train data on tuned estimator\n",
    "xgb_tuned_model_train_perf=model_performance_classification_sklearn(xgb_tuned,X_train,y_train)\n",
    "print(\"Training performance:\\n\",xgb_tuned_model_train_perf)\n",
    "#Code to check performance for train data on tuned estimator\n",
    "xgb_tuned_model_test_perf=model_performance_classification_sklearn(xgb_tuned,X_test,y_test)\n",
    "print(\"Testing performance:\\n\",xgb_tuned_model_test_perf)\n",
    "\n",
    "#Creating confusion matrix\n",
    "confusion_matrix_sklearn(xgb_tuned,X_test,y_test)"
   ]
  },
  {
   "cell_type": "markdown",
   "id": "938fc583",
   "metadata": {},
   "source": [
    "- Overfitting has reduced\n",
    "- F1 scores are 0.827 and 0.821 for the training & testing datasets"
   ]
  },
  {
   "cell_type": "markdown",
   "id": "688a20e8",
   "metadata": {},
   "source": [
    "### Stacking Classifier"
   ]
  },
  {
   "cell_type": "code",
   "execution_count": 81,
   "id": "6374281a",
   "metadata": {},
   "outputs": [
    {
     "data": {
      "text/plain": [
       "StackingClassifier(estimators=[('Ad Boost Tuned',\n",
       "                                AdaBoostClassifier(base_estimator=DecisionTreeClassifier(max_depth=2),\n",
       "                                                   learning_rate=0.2,\n",
       "                                                   n_estimators=60,\n",
       "                                                   random_state=1)),\n",
       "                               ('Gradient Boost Tuned',\n",
       "                                GradientBoostingClassifier(init=AdaBoostClassifier(random_state=1),\n",
       "                                                           max_features=0.9,\n",
       "                                                           n_estimators=175,\n",
       "                                                           random_state=1,\n",
       "                                                           subsample=1)),\n",
       "                               ('Decision Tree Tuned',\n",
       "                                DecisionT...\n",
       "                                                 eval_metric='logloss', gamma=0,\n",
       "                                                 gpu_id=-1,\n",
       "                                                 importance_type='gain',\n",
       "                                                 interaction_constraints='',\n",
       "                                                 learning_rate=0.2,\n",
       "                                                 max_delta_step=0, max_depth=6,\n",
       "                                                 min_child_weight=1,\n",
       "                                                 missing=nan,\n",
       "                                                 monotone_constraints='()',\n",
       "                                                 n_estimators=10, n_jobs=0,\n",
       "                                                 num_parallel_tree=1,\n",
       "                                                 random_state=1, reg_alpha=0,\n",
       "                                                 reg_lambda=1,\n",
       "                                                 scale_pos_weight=1,\n",
       "                                                 subsample=0.7,\n",
       "                                                 tree_method='exact',\n",
       "                                                 validate_parameters=1,\n",
       "                                                 verbosity=None))"
      ]
     },
     "execution_count": 81,
     "metadata": {},
     "output_type": "execute_result"
    }
   ],
   "source": [
    "estimators = [('Ad Boost Tuned',abc_tuned), ('Gradient Boost Tuned',gbc_tuned), ('Decision Tree Tuned',dtree_estimator)]\n",
    "\n",
    "final_estimator = xgb_tuned\n",
    "\n",
    "stacking_classifier= StackingClassifier(estimators=estimators,final_estimator=final_estimator)\n",
    "\n",
    "stacking_classifier.fit(X_train,y_train)"
   ]
  },
  {
   "cell_type": "code",
   "execution_count": 82,
   "id": "0740dbce",
   "metadata": {},
   "outputs": [
    {
     "name": "stdout",
     "output_type": "stream",
     "text": [
      "Training performance:\n",
      "    Accuracy    Recall  Precision        F1\n",
      "0  0.756167  0.870142   0.787211  0.826602\n",
      "Testing performance:\n",
      "    Accuracy   Recall  Precision        F1\n",
      "0  0.744898  0.86523   0.777778  0.819177\n"
     ]
    },
    {
     "data": {
      "image/png": "[encoded data removed]",
      "text/plain": [
       "<Figure size 432x288 with 2 Axes>"
      ]
     },
     "metadata": {
      "needs_background": "light"
     },
     "output_type": "display_data"
    }
   ],
   "source": [
    "#Code to check performance on train data\n",
    "stacking_classifier_model_train_perf=model_performance_classification_sklearn(stacking_classifier,X_train,y_train)\n",
    "print(\"Training performance:\\n\",stacking_classifier_model_train_perf)\n",
    "#Code to check performance on test data\n",
    "stacking_classifier_model_test_perf=model_performance_classification_sklearn(stacking_classifier,X_test,y_test)\n",
    "print(\"Testing performance:\\n\",stacking_classifier_model_test_perf)\n",
    "\n",
    "#Creating confusion matrix\n",
    "confusion_matrix_sklearn(stacking_classifier,X_test,y_test)"
   ]
  },
  {
   "cell_type": "markdown",
   "id": "4a2d4f69",
   "metadata": {},
   "source": [
    "- Training & testing F1 scores of 0.826 & 0.819"
   ]
  },
  {
   "cell_type": "markdown",
   "id": "6e810edf",
   "metadata": {},
   "source": [
    "# Model Performance Comparison and Conclusions"
   ]
  },
  {
   "cell_type": "markdown",
   "id": "difficult-union",
   "metadata": {
    "id": "difficult-union"
   },
   "source": [
    "### Conclusion"
   ]
  },
  {
   "cell_type": "markdown",
   "id": "768cd3f7",
   "metadata": {},
   "source": [
    "**Comparing all models**"
   ]
  },
  {
   "cell_type": "code",
   "execution_count": 83,
   "id": "interested-talent",
   "metadata": {
    "id": "interested-talent"
   },
   "outputs": [
    {
     "name": "stdout",
     "output_type": "stream",
     "text": [
      "Training performance comparison:\n"
     ]
    },
    {
     "data": {
      "text/html": [
       "<div>\n",
       "<style scoped>\n",
       "    .dataframe tbody tr th:only-of-type {\n",
       "        vertical-align: middle;\n",
       "    }\n",
       "\n",
       "    .dataframe tbody tr th {\n",
       "        vertical-align: top;\n",
       "    }\n",
       "\n",
       "    .dataframe thead th {\n",
       "        text-align: right;\n",
       "    }\n",
       "</style>\n",
       "<table border=\"1\" class=\"dataframe\">\n",
       "  <thead>\n",
       "    <tr style=\"text-align: right;\">\n",
       "      <th></th>\n",
       "      <th>Decision Tree</th>\n",
       "      <th>Decision Tree Tuned</th>\n",
       "      <th>Random Forest</th>\n",
       "      <th>Random Forest Tuned</th>\n",
       "      <th>Bagging Classifier</th>\n",
       "      <th>Bagging Estimator Tuned</th>\n",
       "      <th>Adaboost Classifier</th>\n",
       "      <th>Adabosst Classifier Tuned</th>\n",
       "      <th>Gradient Boost Classifier</th>\n",
       "      <th>Gradient Boost Classifier Tuned</th>\n",
       "      <th>XGBoost Classifier</th>\n",
       "      <th>XGBoost Classifier Tuned</th>\n",
       "      <th>Stacking Classifier</th>\n",
       "    </tr>\n",
       "  </thead>\n",
       "  <tbody>\n",
       "    <tr>\n",
       "      <th>Accuracy</th>\n",
       "      <td>1.0</td>\n",
       "      <td>0.712548</td>\n",
       "      <td>0.999888</td>\n",
       "      <td>0.748206</td>\n",
       "      <td>0.979255</td>\n",
       "      <td>0.955427</td>\n",
       "      <td>0.738619</td>\n",
       "      <td>0.749832</td>\n",
       "      <td>0.755551</td>\n",
       "      <td>0.760316</td>\n",
       "      <td>0.810944</td>\n",
       "      <td>0.757401</td>\n",
       "      <td>0.756167</td>\n",
       "    </tr>\n",
       "    <tr>\n",
       "      <th>Recall</th>\n",
       "      <td>1.0</td>\n",
       "      <td>0.931923</td>\n",
       "      <td>0.999916</td>\n",
       "      <td>0.780072</td>\n",
       "      <td>0.980106</td>\n",
       "      <td>0.993704</td>\n",
       "      <td>0.886007</td>\n",
       "      <td>0.872660</td>\n",
       "      <td>0.878284</td>\n",
       "      <td>0.879795</td>\n",
       "      <td>0.912700</td>\n",
       "      <td>0.874003</td>\n",
       "      <td>0.870142</td>\n",
       "    </tr>\n",
       "    <tr>\n",
       "      <th>Precision</th>\n",
       "      <td>1.0</td>\n",
       "      <td>0.720067</td>\n",
       "      <td>0.999916</td>\n",
       "      <td>0.832408</td>\n",
       "      <td>0.988737</td>\n",
       "      <td>0.942666</td>\n",
       "      <td>0.761599</td>\n",
       "      <td>0.779252</td>\n",
       "      <td>0.782397</td>\n",
       "      <td>0.786626</td>\n",
       "      <td>0.823400</td>\n",
       "      <td>0.786524</td>\n",
       "      <td>0.787211</td>\n",
       "    </tr>\n",
       "    <tr>\n",
       "      <th>F1</th>\n",
       "      <td>1.0</td>\n",
       "      <td>0.812411</td>\n",
       "      <td>0.999916</td>\n",
       "      <td>0.805391</td>\n",
       "      <td>0.984403</td>\n",
       "      <td>0.967513</td>\n",
       "      <td>0.819106</td>\n",
       "      <td>0.823315</td>\n",
       "      <td>0.827573</td>\n",
       "      <td>0.830606</td>\n",
       "      <td>0.865754</td>\n",
       "      <td>0.827959</td>\n",
       "      <td>0.826602</td>\n",
       "    </tr>\n",
       "  </tbody>\n",
       "</table>\n",
       "</div>"
      ],
      "text/plain": [
       "           Decision Tree  Decision Tree Tuned  Random Forest  \\\n",
       "Accuracy             1.0             0.712548       0.999888   \n",
       "Recall               1.0             0.931923       0.999916   \n",
       "Precision            1.0             0.720067       0.999916   \n",
       "F1                   1.0             0.812411       0.999916   \n",
       "\n",
       "           Random Forest Tuned  Bagging Classifier  Bagging Estimator Tuned  \\\n",
       "Accuracy              0.748206            0.979255                 0.955427   \n",
       "Recall                0.780072            0.980106                 0.993704   \n",
       "Precision             0.832408            0.988737                 0.942666   \n",
       "F1                    0.805391            0.984403                 0.967513   \n",
       "\n",
       "           Adaboost Classifier  Adabosst Classifier Tuned  \\\n",
       "Accuracy              0.738619                   0.749832   \n",
       "Recall                0.886007                   0.872660   \n",
       "Precision             0.761599                   0.779252   \n",
       "F1                    0.819106                   0.823315   \n",
       "\n",
       "           Gradient Boost Classifier  Gradient Boost Classifier Tuned  \\\n",
       "Accuracy                    0.755551                         0.760316   \n",
       "Recall                      0.878284                         0.879795   \n",
       "Precision                   0.782397                         0.786626   \n",
       "F1                          0.827573                         0.830606   \n",
       "\n",
       "           XGBoost Classifier  XGBoost Classifier Tuned  Stacking Classifier  \n",
       "Accuracy             0.810944                  0.757401             0.756167  \n",
       "Recall               0.912700                  0.874003             0.870142  \n",
       "Precision            0.823400                  0.786524             0.787211  \n",
       "F1                   0.865754                  0.827959             0.826602  "
      ]
     },
     "execution_count": 83,
     "metadata": {},
     "output_type": "execute_result"
    }
   ],
   "source": [
    "# training performance comparison\n",
    "\n",
    "models_train_comp_df = pd.concat(\n",
    "    [d_tree_model_train_perf.T,dtree_estimator_model_train_perf.T,rf_estimator_model_train_perf.T,rf_tuned_model_train_perf.T,\n",
    "     bagging_classifier_model_train_perf.T,bagging_estimator_tuned_model_train_perf.T,ab_classifier_model_train_perf.T,\n",
    "     abc_tuned_model_train_perf.T,gb_classifier_model_train_perf.T,gbc_tuned_model_train_perf.T,xgb_classifier_model_train_perf.T,\n",
    "    xgb_tuned_model_train_perf.T,stacking_classifier_model_train_perf.T],\n",
    "    axis=1,\n",
    ")\n",
    "models_train_comp_df.columns = [\n",
    "    \"Decision Tree\",\n",
    "    \"Decision Tree Tuned\",\n",
    "    \"Random Forest\",\n",
    "    \"Random Forest Tuned\",\n",
    "    \"Bagging Classifier\",\n",
    "    \"Bagging Estimator Tuned\",\n",
    "    \"Adaboost Classifier\",\n",
    "    \"Adabosst Classifier Tuned\",\n",
    "    \"Gradient Boost Classifier\",\n",
    "    \"Gradient Boost Classifier Tuned\",\n",
    "    \"XGBoost Classifier\",\n",
    "    \"XGBoost Classifier Tuned\",\n",
    "    \"Stacking Classifier\"]\n",
    "print(\"Training performance comparison:\")\n",
    "models_train_comp_df"
   ]
  },
  {
   "cell_type": "markdown",
   "id": "7f619a93",
   "metadata": {},
   "source": [
    "- Decision tree, Random forest model, Bagging classifier,XGBoost,AdaBoost classifier is overfiting the training data.\n",
    "-  AdaBoost classifier training & testing data with a F1 score 0.819 & 0.816\n",
    "- Gradient boosting model F1 scores of 0.827 and 0.821 respectively\n",
    "- Gradient Boosting - Hyperparameter Tuning is .826  ans .8201\n",
    "- XGBoost tuned has the highest F1 score  0.827 and 0.821"
   ]
  },
  {
   "cell_type": "code",
   "execution_count": 84,
   "id": "ad285171",
   "metadata": {},
   "outputs": [
    {
     "name": "stdout",
     "output_type": "stream",
     "text": [
      "Testing performance comparison:\n"
     ]
    },
    {
     "data": {
      "text/html": [
       "<div>\n",
       "<style scoped>\n",
       "    .dataframe tbody tr th:only-of-type {\n",
       "        vertical-align: middle;\n",
       "    }\n",
       "\n",
       "    .dataframe tbody tr th {\n",
       "        vertical-align: top;\n",
       "    }\n",
       "\n",
       "    .dataframe thead th {\n",
       "        text-align: right;\n",
       "    }\n",
       "</style>\n",
       "<table border=\"1\" class=\"dataframe\">\n",
       "  <thead>\n",
       "    <tr style=\"text-align: right;\">\n",
       "      <th></th>\n",
       "      <th>Decision Tree</th>\n",
       "      <th>Decision Tree Tuned</th>\n",
       "      <th>Random Forest</th>\n",
       "      <th>Random Forest Tuned</th>\n",
       "      <th>Bagging Classifier</th>\n",
       "      <th>Bagging Estimator Tuned</th>\n",
       "      <th>Adaboost Classifier</th>\n",
       "      <th>Adabosst Classifier Tuned</th>\n",
       "      <th>Gradient Boost Classifier</th>\n",
       "      <th>Gradient Boost Classifier Tuned</th>\n",
       "      <th>XGBoost Classifier</th>\n",
       "      <th>XGBoost Classifier Tuned</th>\n",
       "      <th>Stacking Classifier</th>\n",
       "    </tr>\n",
       "  </thead>\n",
       "  <tbody>\n",
       "    <tr>\n",
       "      <th>Accuracy</th>\n",
       "      <td>0.650314</td>\n",
       "      <td>0.706567</td>\n",
       "      <td>0.677525</td>\n",
       "      <td>0.719257</td>\n",
       "      <td>0.681973</td>\n",
       "      <td>0.725929</td>\n",
       "      <td>0.735610</td>\n",
       "      <td>0.744244</td>\n",
       "      <td>0.747122</td>\n",
       "      <td>0.746337</td>\n",
       "      <td>0.736656</td>\n",
       "      <td>0.746599</td>\n",
       "      <td>0.744898</td>\n",
       "    </tr>\n",
       "    <tr>\n",
       "      <th>Recall</th>\n",
       "      <td>0.729285</td>\n",
       "      <td>0.930852</td>\n",
       "      <td>0.769442</td>\n",
       "      <td>0.759647</td>\n",
       "      <td>0.757297</td>\n",
       "      <td>0.879922</td>\n",
       "      <td>0.885994</td>\n",
       "      <td>0.871890</td>\n",
       "      <td>0.876200</td>\n",
       "      <td>0.872674</td>\n",
       "      <td>0.863467</td>\n",
       "      <td>0.871107</td>\n",
       "      <td>0.865230</td>\n",
       "    </tr>\n",
       "    <tr>\n",
       "      <th>Precision</th>\n",
       "      <td>0.742521</td>\n",
       "      <td>0.715447</td>\n",
       "      <td>0.753067</td>\n",
       "      <td>0.808422</td>\n",
       "      <td>0.764334</td>\n",
       "      <td>0.751925</td>\n",
       "      <td>0.758638</td>\n",
       "      <td>0.773818</td>\n",
       "      <td>0.774680</td>\n",
       "      <td>0.775592</td>\n",
       "      <td>0.770091</td>\n",
       "      <td>0.776633</td>\n",
       "      <td>0.777778</td>\n",
       "    </tr>\n",
       "    <tr>\n",
       "      <th>F1</th>\n",
       "      <td>0.735843</td>\n",
       "      <td>0.809058</td>\n",
       "      <td>0.761167</td>\n",
       "      <td>0.783276</td>\n",
       "      <td>0.760799</td>\n",
       "      <td>0.810904</td>\n",
       "      <td>0.817385</td>\n",
       "      <td>0.819932</td>\n",
       "      <td>0.822318</td>\n",
       "      <td>0.821274</td>\n",
       "      <td>0.814110</td>\n",
       "      <td>0.821161</td>\n",
       "      <td>0.819177</td>\n",
       "    </tr>\n",
       "  </tbody>\n",
       "</table>\n",
       "</div>"
      ],
      "text/plain": [
       "           Decision Tree  Decision Tree Tuned  Random Forest  \\\n",
       "Accuracy        0.650314             0.706567       0.677525   \n",
       "Recall          0.729285             0.930852       0.769442   \n",
       "Precision       0.742521             0.715447       0.753067   \n",
       "F1              0.735843             0.809058       0.761167   \n",
       "\n",
       "           Random Forest Tuned  Bagging Classifier  Bagging Estimator Tuned  \\\n",
       "Accuracy              0.719257            0.681973                 0.725929   \n",
       "Recall                0.759647            0.757297                 0.879922   \n",
       "Precision             0.808422            0.764334                 0.751925   \n",
       "F1                    0.783276            0.760799                 0.810904   \n",
       "\n",
       "           Adaboost Classifier  Adabosst Classifier Tuned  \\\n",
       "Accuracy              0.735610                   0.744244   \n",
       "Recall                0.885994                   0.871890   \n",
       "Precision             0.758638                   0.773818   \n",
       "F1                    0.817385                   0.819932   \n",
       "\n",
       "           Gradient Boost Classifier  Gradient Boost Classifier Tuned  \\\n",
       "Accuracy                    0.747122                         0.746337   \n",
       "Recall                      0.876200                         0.872674   \n",
       "Precision                   0.774680                         0.775592   \n",
       "F1                          0.822318                         0.821274   \n",
       "\n",
       "           XGBoost Classifier  XGBoost Classifier Tuned  Stacking Classifier  \n",
       "Accuracy             0.736656                  0.746599             0.744898  \n",
       "Recall               0.863467                  0.871107             0.865230  \n",
       "Precision            0.770091                  0.776633             0.777778  \n",
       "F1                   0.814110                  0.821161             0.819177  "
      ]
     },
     "execution_count": 84,
     "metadata": {},
     "output_type": "execute_result"
    }
   ],
   "source": [
    "# testing performance comparison\n",
    "\n",
    "models_test_comp_df = pd.concat(\n",
    "    [d_tree_model_test_perf.T,dtree_estimator_model_test_perf.T,rf_estimator_model_test_perf.T,rf_tuned_model_test_perf.T,\n",
    "     bagging_classifier_model_test_perf.T,bagging_estimator_tuned_model_test_perf.T,ab_classifier_model_test_perf.T,\n",
    "     abc_tuned_model_test_perf.T,gb_classifier_model_test_perf.T,gbc_tuned_model_test_perf.T,xgb_classifier_model_test_perf.T,\n",
    "    xgb_tuned_model_test_perf.T,stacking_classifier_model_test_perf.T],\n",
    "    axis=1,\n",
    ")\n",
    "models_test_comp_df.columns = [\n",
    "    \"Decision Tree\",\n",
    "    \"Decision Tree Tuned\",\n",
    "    \"Random Forest\",\n",
    "    \"Random Forest Tuned\",\n",
    "    \"Bagging Classifier\",\n",
    "    \"Bagging Estimator Tuned\",\n",
    "    \"Adaboost Classifier\",\n",
    "    \"Adabosst Classifier Tuned\",\n",
    "    \"Gradient Boost Classifier\",\n",
    "    \"Gradient Boost Classifier Tuned\",\n",
    "    \"XGBoost Classifier\",\n",
    "    \"XGBoost Classifier Tuned\",\n",
    "    \"Stacking Classifier\"]\n",
    "print(\"Testing performance comparison:\")\n",
    "models_test_comp_df"
   ]
  },
  {
   "cell_type": "markdown",
   "id": "3961b25c",
   "metadata": {},
   "source": [
    "### Important features of the final model"
   ]
  },
  {
   "cell_type": "code",
   "execution_count": 85,
   "id": "b1e265c3",
   "metadata": {},
   "outputs": [
    {
     "data": {
      "image/png": "[encoded data removed]",
      "text/plain": [
       "<Figure size 864x864 with 1 Axes>"
      ]
     },
     "metadata": {
      "needs_background": "light"
     },
     "output_type": "display_data"
    }
   ],
   "source": [
    "feature_names = X_train.columns\n",
    "importances = xgb_tuned.feature_importances_\n",
    "indices = np.argsort(importances)\n",
    "\n",
    "plt.figure(figsize=(12,12))\n",
    "plt.title('Feature Importances')\n",
    "plt.barh(range(len(indices)), importances[indices], color='violet', align='center')\n",
    "plt.yticks(range(len(indices)), [feature_names[i] for i in indices])\n",
    "plt.xlabel('Relative Importance')\n",
    "plt.show()"
   ]
  },
  {
   "cell_type": "markdown",
   "id": "75778628",
   "metadata": {},
   "source": [
    "- Education of the employee is an important attribute on visa certification.\n",
    "- Job experience of employee,  unit_of_wage, continent of the employee Region of employment are also important attributes."
   ]
  },
  {
   "cell_type": "markdown",
   "id": "2183310b",
   "metadata": {},
   "source": [
    "# Business Recommendations"
   ]
  },
  {
   "cell_type": "markdown",
   "id": "535ee012",
   "metadata": {},
   "source": [
    "## Observation:"
   ]
  },
  {
   "cell_type": "markdown",
   "id": "cf26fb4c",
   "metadata": {},
   "source": [
    "- An employee with doctorate has more chance of getting visa than employee with high school certififcation .\n",
    "\n",
    "- Employee with a non-hourly pay (week-ly, month-ly or year-ly) has more chance of gettting visa employee with hourly pay.\n",
    "- Continent of employee has role in visa certification.\n",
    "\n",
    "- Employee with prior job experience has more chance of getting visa approved than employee with no prior work experience.\n",
    "\n",
    "- Region of the US the employment opportunity is an impt factor for getting certified.\n",
    "- Fulltime/part time,employee needs training, annual prevailing wage, do not have much bearing on a case getting certified vs denied.\n",
    "\n",
    "- XGBoost hyperparameter tuned has the highest F1 score  0.827 on training and 0.821 testing. Overfitting is reduced hee.It is able to give generalized prediction.\n",
    "- Precision and Recall is 78% and 87% respectively.\n"
   ]
  },
  {
   "cell_type": "markdown",
   "id": "130e939a",
   "metadata": {},
   "source": [
    "## Recommendations:"
   ]
  },
  {
   "cell_type": "markdown",
   "id": "ce1df26f",
   "metadata": {
    "id": "amino-prediction"
   },
   "source": [
    "- From confusion matrix, we understand that large percentage is getting accepted, only a small percentage get rejected. So revaluation of cases that are rejected can be done to reduce the employee shortage.\n",
    "\n"
   ]
  }
 ],
 "metadata": {
  "colab": {
   "collapsed_sections": [],
   "name": "EasyVisa_Project_Template_Notebook.ipynb",
   "provenance": []
  },
  "kernelspec": {
   "display_name": "Python 3",
   "language": "python",
   "name": "python3"
  },
  "language_info": {
   "codemirror_mode": {
    "name": "ipython",
    "version": 3
   },
   "file_extension": ".py",
   "mimetype": "text/x-python",
   "name": "python",
   "nbconvert_exporter": "python",
   "pygments_lexer": "ipython3",
   "version": "3.8.8"
  }
 },
 "nbformat": 4,
 "nbformat_minor": 5
}
